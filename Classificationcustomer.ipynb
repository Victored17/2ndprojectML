{
 "cells": [
  {
   "cell_type": "code",
   "execution_count": 744,
   "id": "4aacc2a8",
   "metadata": {},
   "outputs": [],
   "source": [
    "%config IPCompleter.greedy=True\n",
    "import numpy as np\n",
    "import pandas as pd\n",
    "import matplotlib.pyplot as plt\n",
    "import seaborn as sns\n",
    "%matplotlib inline\n",
    "from sklearn.model_selection import train_test_split, cross_val_score, KFold, GridSearchCV\n",
    "from sklearn.metrics import accuracy_score, classification_report, f1_score\n",
    "from sklearn.preprocessing import StandardScaler\n",
    "from sklearn.neighbors import KNeighborsClassifier \n",
    "from sklearn.tree import DecisionTreeClassifier\n",
    "from sklearn.linear_model import LogisticRegression\n",
    "from sklearn.svm import SVC\n",
    "from sklearn.ensemble import RandomForestClassifier, AdaBoostClassifier, GradientBoostingClassifier, VotingClassifier\n",
    "import warnings\n",
    "warnings.filterwarnings('ignore')"
   ]
  },
  {
   "cell_type": "markdown",
   "id": "15857c80",
   "metadata": {},
   "source": [
    "#### Load Data"
   ]
  },
  {
   "cell_type": "code",
   "execution_count": 745,
   "id": "28d0b22b",
   "metadata": {},
   "outputs": [],
   "source": [
    "df_train = pd.read_csv(r'C:\\Users\\LENOVO\\python\\datasets\\customerclassi\\train.csv')\n",
    "df_test=pd.read_csv(r'C:\\Users\\LENOVO\\python\\datasets\\customerclassi\\test.csv')"
   ]
  },
  {
   "cell_type": "code",
   "execution_count": 746,
   "id": "eff990e4",
   "metadata": {},
   "outputs": [
    {
     "data": {
      "text/html": [
       "<div>\n",
       "<style scoped>\n",
       "    .dataframe tbody tr th:only-of-type {\n",
       "        vertical-align: middle;\n",
       "    }\n",
       "\n",
       "    .dataframe tbody tr th {\n",
       "        vertical-align: top;\n",
       "    }\n",
       "\n",
       "    .dataframe thead th {\n",
       "        text-align: right;\n",
       "    }\n",
       "</style>\n",
       "<table border=\"1\" class=\"dataframe\">\n",
       "  <thead>\n",
       "    <tr style=\"text-align: right;\">\n",
       "      <th></th>\n",
       "      <th>ID</th>\n",
       "      <th>Gender</th>\n",
       "      <th>Ever_Married</th>\n",
       "      <th>Age</th>\n",
       "      <th>Graduated</th>\n",
       "      <th>Profession</th>\n",
       "      <th>Work_Experience</th>\n",
       "      <th>Spending_Score</th>\n",
       "      <th>Family_Size</th>\n",
       "      <th>Var_1</th>\n",
       "      <th>Segmentation</th>\n",
       "    </tr>\n",
       "  </thead>\n",
       "  <tbody>\n",
       "    <tr>\n",
       "      <th>0</th>\n",
       "      <td>462809</td>\n",
       "      <td>Male</td>\n",
       "      <td>No</td>\n",
       "      <td>22</td>\n",
       "      <td>No</td>\n",
       "      <td>Healthcare</td>\n",
       "      <td>1.0</td>\n",
       "      <td>Low</td>\n",
       "      <td>4.0</td>\n",
       "      <td>Cat_4</td>\n",
       "      <td>D</td>\n",
       "    </tr>\n",
       "    <tr>\n",
       "      <th>1</th>\n",
       "      <td>462643</td>\n",
       "      <td>Female</td>\n",
       "      <td>Yes</td>\n",
       "      <td>38</td>\n",
       "      <td>Yes</td>\n",
       "      <td>Engineer</td>\n",
       "      <td>NaN</td>\n",
       "      <td>Average</td>\n",
       "      <td>3.0</td>\n",
       "      <td>Cat_4</td>\n",
       "      <td>A</td>\n",
       "    </tr>\n",
       "    <tr>\n",
       "      <th>2</th>\n",
       "      <td>466315</td>\n",
       "      <td>Female</td>\n",
       "      <td>Yes</td>\n",
       "      <td>67</td>\n",
       "      <td>Yes</td>\n",
       "      <td>Engineer</td>\n",
       "      <td>1.0</td>\n",
       "      <td>Low</td>\n",
       "      <td>1.0</td>\n",
       "      <td>Cat_6</td>\n",
       "      <td>B</td>\n",
       "    </tr>\n",
       "    <tr>\n",
       "      <th>3</th>\n",
       "      <td>461735</td>\n",
       "      <td>Male</td>\n",
       "      <td>Yes</td>\n",
       "      <td>67</td>\n",
       "      <td>Yes</td>\n",
       "      <td>Lawyer</td>\n",
       "      <td>0.0</td>\n",
       "      <td>High</td>\n",
       "      <td>2.0</td>\n",
       "      <td>Cat_6</td>\n",
       "      <td>B</td>\n",
       "    </tr>\n",
       "    <tr>\n",
       "      <th>4</th>\n",
       "      <td>462669</td>\n",
       "      <td>Female</td>\n",
       "      <td>Yes</td>\n",
       "      <td>40</td>\n",
       "      <td>Yes</td>\n",
       "      <td>Entertainment</td>\n",
       "      <td>NaN</td>\n",
       "      <td>High</td>\n",
       "      <td>6.0</td>\n",
       "      <td>Cat_6</td>\n",
       "      <td>A</td>\n",
       "    </tr>\n",
       "    <tr>\n",
       "      <th>...</th>\n",
       "      <td>...</td>\n",
       "      <td>...</td>\n",
       "      <td>...</td>\n",
       "      <td>...</td>\n",
       "      <td>...</td>\n",
       "      <td>...</td>\n",
       "      <td>...</td>\n",
       "      <td>...</td>\n",
       "      <td>...</td>\n",
       "      <td>...</td>\n",
       "      <td>...</td>\n",
       "    </tr>\n",
       "    <tr>\n",
       "      <th>10690</th>\n",
       "      <td>467954</td>\n",
       "      <td>Male</td>\n",
       "      <td>No</td>\n",
       "      <td>29</td>\n",
       "      <td>No</td>\n",
       "      <td>Healthcare</td>\n",
       "      <td>9.0</td>\n",
       "      <td>Low</td>\n",
       "      <td>4.0</td>\n",
       "      <td>Cat_6</td>\n",
       "      <td>B</td>\n",
       "    </tr>\n",
       "    <tr>\n",
       "      <th>10691</th>\n",
       "      <td>467958</td>\n",
       "      <td>Female</td>\n",
       "      <td>No</td>\n",
       "      <td>35</td>\n",
       "      <td>Yes</td>\n",
       "      <td>Doctor</td>\n",
       "      <td>1.0</td>\n",
       "      <td>Low</td>\n",
       "      <td>1.0</td>\n",
       "      <td>Cat_6</td>\n",
       "      <td>A</td>\n",
       "    </tr>\n",
       "    <tr>\n",
       "      <th>10692</th>\n",
       "      <td>467960</td>\n",
       "      <td>Female</td>\n",
       "      <td>No</td>\n",
       "      <td>53</td>\n",
       "      <td>Yes</td>\n",
       "      <td>Entertainment</td>\n",
       "      <td>NaN</td>\n",
       "      <td>Low</td>\n",
       "      <td>2.0</td>\n",
       "      <td>Cat_6</td>\n",
       "      <td>C</td>\n",
       "    </tr>\n",
       "    <tr>\n",
       "      <th>10693</th>\n",
       "      <td>467961</td>\n",
       "      <td>Male</td>\n",
       "      <td>Yes</td>\n",
       "      <td>47</td>\n",
       "      <td>Yes</td>\n",
       "      <td>Executive</td>\n",
       "      <td>1.0</td>\n",
       "      <td>High</td>\n",
       "      <td>5.0</td>\n",
       "      <td>Cat_4</td>\n",
       "      <td>C</td>\n",
       "    </tr>\n",
       "    <tr>\n",
       "      <th>10694</th>\n",
       "      <td>467968</td>\n",
       "      <td>Female</td>\n",
       "      <td>No</td>\n",
       "      <td>43</td>\n",
       "      <td>Yes</td>\n",
       "      <td>Healthcare</td>\n",
       "      <td>9.0</td>\n",
       "      <td>Low</td>\n",
       "      <td>3.0</td>\n",
       "      <td>Cat_7</td>\n",
       "      <td>A</td>\n",
       "    </tr>\n",
       "  </tbody>\n",
       "</table>\n",
       "<p>10695 rows × 11 columns</p>\n",
       "</div>"
      ],
      "text/plain": [
       "           ID  Gender Ever_Married  Age Graduated     Profession  \\\n",
       "0      462809    Male           No   22        No     Healthcare   \n",
       "1      462643  Female          Yes   38       Yes       Engineer   \n",
       "2      466315  Female          Yes   67       Yes       Engineer   \n",
       "3      461735    Male          Yes   67       Yes         Lawyer   \n",
       "4      462669  Female          Yes   40       Yes  Entertainment   \n",
       "...       ...     ...          ...  ...       ...            ...   \n",
       "10690  467954    Male           No   29        No     Healthcare   \n",
       "10691  467958  Female           No   35       Yes         Doctor   \n",
       "10692  467960  Female           No   53       Yes  Entertainment   \n",
       "10693  467961    Male          Yes   47       Yes      Executive   \n",
       "10694  467968  Female           No   43       Yes     Healthcare   \n",
       "\n",
       "       Work_Experience Spending_Score  Family_Size  Var_1 Segmentation  \n",
       "0                  1.0            Low          4.0  Cat_4            D  \n",
       "1                  NaN        Average          3.0  Cat_4            A  \n",
       "2                  1.0            Low          1.0  Cat_6            B  \n",
       "3                  0.0           High          2.0  Cat_6            B  \n",
       "4                  NaN           High          6.0  Cat_6            A  \n",
       "...                ...            ...          ...    ...          ...  \n",
       "10690              9.0            Low          4.0  Cat_6            B  \n",
       "10691              1.0            Low          1.0  Cat_6            A  \n",
       "10692              NaN            Low          2.0  Cat_6            C  \n",
       "10693              1.0           High          5.0  Cat_4            C  \n",
       "10694              9.0            Low          3.0  Cat_7            A  \n",
       "\n",
       "[10695 rows x 11 columns]"
      ]
     },
     "execution_count": 746,
     "metadata": {},
     "output_type": "execute_result"
    }
   ],
   "source": [
    "df=pd.concat([df_train,df_test],ignore_index=True)\n",
    "df"
   ]
  },
  {
   "cell_type": "markdown",
   "id": "dee72a90",
   "metadata": {},
   "source": [
    "#### Understand Data "
   ]
  },
  {
   "cell_type": "code",
   "execution_count": 747,
   "id": "226ce4f1",
   "metadata": {
    "scrolled": true
   },
   "outputs": [
    {
     "name": "stdout",
     "output_type": "stream",
     "text": [
      "<class 'pandas.core.frame.DataFrame'>\n",
      "RangeIndex: 10695 entries, 0 to 10694\n",
      "Data columns (total 11 columns):\n",
      " #   Column           Non-Null Count  Dtype  \n",
      "---  ------           --------------  -----  \n",
      " 0   ID               10695 non-null  int64  \n",
      " 1   Gender           10695 non-null  object \n",
      " 2   Ever_Married     10505 non-null  object \n",
      " 3   Age              10695 non-null  int64  \n",
      " 4   Graduated        10593 non-null  object \n",
      " 5   Profession       10533 non-null  object \n",
      " 6   Work_Experience  9597 non-null   float64\n",
      " 7   Spending_Score   10695 non-null  object \n",
      " 8   Family_Size      10247 non-null  float64\n",
      " 9   Var_1            10587 non-null  object \n",
      " 10  Segmentation     10695 non-null  object \n",
      "dtypes: float64(2), int64(2), object(7)\n",
      "memory usage: 919.2+ KB\n"
     ]
    }
   ],
   "source": [
    "df.info()"
   ]
  },
  {
   "cell_type": "code",
   "execution_count": 748,
   "id": "d5229711",
   "metadata": {},
   "outputs": [
    {
     "data": {
      "text/plain": [
       "Work_Experience    1098\n",
       "Family_Size         448\n",
       "Ever_Married        190\n",
       "Profession          162\n",
       "Var_1               108\n",
       "Graduated           102\n",
       "ID                    0\n",
       "Gender                0\n",
       "Age                   0\n",
       "Spending_Score        0\n",
       "Segmentation          0\n",
       "dtype: int64"
      ]
     },
     "execution_count": 748,
     "metadata": {},
     "output_type": "execute_result"
    }
   ],
   "source": [
    "df.isnull().sum().sort_values(ascending=False)"
   ]
  },
  {
   "cell_type": "code",
   "execution_count": 749,
   "id": "b4c0e88c",
   "metadata": {},
   "outputs": [
    {
     "data": {
      "text/html": [
       "<div>\n",
       "<style scoped>\n",
       "    .dataframe tbody tr th:only-of-type {\n",
       "        vertical-align: middle;\n",
       "    }\n",
       "\n",
       "    .dataframe tbody tr th {\n",
       "        vertical-align: top;\n",
       "    }\n",
       "\n",
       "    .dataframe thead th {\n",
       "        text-align: right;\n",
       "    }\n",
       "</style>\n",
       "<table border=\"1\" class=\"dataframe\">\n",
       "  <thead>\n",
       "    <tr style=\"text-align: right;\">\n",
       "      <th></th>\n",
       "      <th>Gender</th>\n",
       "      <th>Ever_Married</th>\n",
       "      <th>Age</th>\n",
       "      <th>Graduated</th>\n",
       "      <th>Profession</th>\n",
       "      <th>Work_Experience</th>\n",
       "      <th>Spending_Score</th>\n",
       "      <th>Family_Size</th>\n",
       "      <th>Var_1</th>\n",
       "      <th>Segmentation</th>\n",
       "    </tr>\n",
       "  </thead>\n",
       "  <tbody>\n",
       "    <tr>\n",
       "      <th>0</th>\n",
       "      <td>Male</td>\n",
       "      <td>No</td>\n",
       "      <td>22</td>\n",
       "      <td>No</td>\n",
       "      <td>Healthcare</td>\n",
       "      <td>1.0</td>\n",
       "      <td>Low</td>\n",
       "      <td>4.0</td>\n",
       "      <td>Cat_4</td>\n",
       "      <td>D</td>\n",
       "    </tr>\n",
       "    <tr>\n",
       "      <th>1</th>\n",
       "      <td>Female</td>\n",
       "      <td>Yes</td>\n",
       "      <td>38</td>\n",
       "      <td>Yes</td>\n",
       "      <td>Engineer</td>\n",
       "      <td>NaN</td>\n",
       "      <td>Average</td>\n",
       "      <td>3.0</td>\n",
       "      <td>Cat_4</td>\n",
       "      <td>A</td>\n",
       "    </tr>\n",
       "    <tr>\n",
       "      <th>2</th>\n",
       "      <td>Female</td>\n",
       "      <td>Yes</td>\n",
       "      <td>67</td>\n",
       "      <td>Yes</td>\n",
       "      <td>Engineer</td>\n",
       "      <td>1.0</td>\n",
       "      <td>Low</td>\n",
       "      <td>1.0</td>\n",
       "      <td>Cat_6</td>\n",
       "      <td>B</td>\n",
       "    </tr>\n",
       "    <tr>\n",
       "      <th>3</th>\n",
       "      <td>Male</td>\n",
       "      <td>Yes</td>\n",
       "      <td>67</td>\n",
       "      <td>Yes</td>\n",
       "      <td>Lawyer</td>\n",
       "      <td>0.0</td>\n",
       "      <td>High</td>\n",
       "      <td>2.0</td>\n",
       "      <td>Cat_6</td>\n",
       "      <td>B</td>\n",
       "    </tr>\n",
       "    <tr>\n",
       "      <th>4</th>\n",
       "      <td>Female</td>\n",
       "      <td>Yes</td>\n",
       "      <td>40</td>\n",
       "      <td>Yes</td>\n",
       "      <td>Entertainment</td>\n",
       "      <td>NaN</td>\n",
       "      <td>High</td>\n",
       "      <td>6.0</td>\n",
       "      <td>Cat_6</td>\n",
       "      <td>A</td>\n",
       "    </tr>\n",
       "    <tr>\n",
       "      <th>...</th>\n",
       "      <td>...</td>\n",
       "      <td>...</td>\n",
       "      <td>...</td>\n",
       "      <td>...</td>\n",
       "      <td>...</td>\n",
       "      <td>...</td>\n",
       "      <td>...</td>\n",
       "      <td>...</td>\n",
       "      <td>...</td>\n",
       "      <td>...</td>\n",
       "    </tr>\n",
       "    <tr>\n",
       "      <th>10690</th>\n",
       "      <td>Male</td>\n",
       "      <td>No</td>\n",
       "      <td>29</td>\n",
       "      <td>No</td>\n",
       "      <td>Healthcare</td>\n",
       "      <td>9.0</td>\n",
       "      <td>Low</td>\n",
       "      <td>4.0</td>\n",
       "      <td>Cat_6</td>\n",
       "      <td>B</td>\n",
       "    </tr>\n",
       "    <tr>\n",
       "      <th>10691</th>\n",
       "      <td>Female</td>\n",
       "      <td>No</td>\n",
       "      <td>35</td>\n",
       "      <td>Yes</td>\n",
       "      <td>Doctor</td>\n",
       "      <td>1.0</td>\n",
       "      <td>Low</td>\n",
       "      <td>1.0</td>\n",
       "      <td>Cat_6</td>\n",
       "      <td>A</td>\n",
       "    </tr>\n",
       "    <tr>\n",
       "      <th>10692</th>\n",
       "      <td>Female</td>\n",
       "      <td>No</td>\n",
       "      <td>53</td>\n",
       "      <td>Yes</td>\n",
       "      <td>Entertainment</td>\n",
       "      <td>NaN</td>\n",
       "      <td>Low</td>\n",
       "      <td>2.0</td>\n",
       "      <td>Cat_6</td>\n",
       "      <td>C</td>\n",
       "    </tr>\n",
       "    <tr>\n",
       "      <th>10693</th>\n",
       "      <td>Male</td>\n",
       "      <td>Yes</td>\n",
       "      <td>47</td>\n",
       "      <td>Yes</td>\n",
       "      <td>Executive</td>\n",
       "      <td>1.0</td>\n",
       "      <td>High</td>\n",
       "      <td>5.0</td>\n",
       "      <td>Cat_4</td>\n",
       "      <td>C</td>\n",
       "    </tr>\n",
       "    <tr>\n",
       "      <th>10694</th>\n",
       "      <td>Female</td>\n",
       "      <td>No</td>\n",
       "      <td>43</td>\n",
       "      <td>Yes</td>\n",
       "      <td>Healthcare</td>\n",
       "      <td>9.0</td>\n",
       "      <td>Low</td>\n",
       "      <td>3.0</td>\n",
       "      <td>Cat_7</td>\n",
       "      <td>A</td>\n",
       "    </tr>\n",
       "  </tbody>\n",
       "</table>\n",
       "<p>10695 rows × 10 columns</p>\n",
       "</div>"
      ],
      "text/plain": [
       "       Gender Ever_Married  Age Graduated     Profession  Work_Experience  \\\n",
       "0        Male           No   22        No     Healthcare              1.0   \n",
       "1      Female          Yes   38       Yes       Engineer              NaN   \n",
       "2      Female          Yes   67       Yes       Engineer              1.0   \n",
       "3        Male          Yes   67       Yes         Lawyer              0.0   \n",
       "4      Female          Yes   40       Yes  Entertainment              NaN   \n",
       "...       ...          ...  ...       ...            ...              ...   \n",
       "10690    Male           No   29        No     Healthcare              9.0   \n",
       "10691  Female           No   35       Yes         Doctor              1.0   \n",
       "10692  Female           No   53       Yes  Entertainment              NaN   \n",
       "10693    Male          Yes   47       Yes      Executive              1.0   \n",
       "10694  Female           No   43       Yes     Healthcare              9.0   \n",
       "\n",
       "      Spending_Score  Family_Size  Var_1 Segmentation  \n",
       "0                Low          4.0  Cat_4            D  \n",
       "1            Average          3.0  Cat_4            A  \n",
       "2                Low          1.0  Cat_6            B  \n",
       "3               High          2.0  Cat_6            B  \n",
       "4               High          6.0  Cat_6            A  \n",
       "...              ...          ...    ...          ...  \n",
       "10690            Low          4.0  Cat_6            B  \n",
       "10691            Low          1.0  Cat_6            A  \n",
       "10692            Low          2.0  Cat_6            C  \n",
       "10693           High          5.0  Cat_4            C  \n",
       "10694            Low          3.0  Cat_7            A  \n",
       "\n",
       "[10695 rows x 10 columns]"
      ]
     },
     "execution_count": 749,
     "metadata": {},
     "output_type": "execute_result"
    }
   ],
   "source": [
    "df.drop(columns='ID',inplace=True)\n",
    "df"
   ]
  },
  {
   "cell_type": "code",
   "execution_count": 750,
   "id": "c91c29b8",
   "metadata": {},
   "outputs": [
    {
     "data": {
      "text/html": [
       "<div>\n",
       "<style scoped>\n",
       "    .dataframe tbody tr th:only-of-type {\n",
       "        vertical-align: middle;\n",
       "    }\n",
       "\n",
       "    .dataframe tbody tr th {\n",
       "        vertical-align: top;\n",
       "    }\n",
       "\n",
       "    .dataframe thead th {\n",
       "        text-align: right;\n",
       "    }\n",
       "</style>\n",
       "<table border=\"1\" class=\"dataframe\">\n",
       "  <thead>\n",
       "    <tr style=\"text-align: right;\">\n",
       "      <th></th>\n",
       "      <th>Age</th>\n",
       "      <th>Work_Experience</th>\n",
       "      <th>Family_Size</th>\n",
       "    </tr>\n",
       "  </thead>\n",
       "  <tbody>\n",
       "    <tr>\n",
       "      <th>count</th>\n",
       "      <td>10695.000000</td>\n",
       "      <td>9597.000000</td>\n",
       "      <td>10247.000000</td>\n",
       "    </tr>\n",
       "    <tr>\n",
       "      <th>mean</th>\n",
       "      <td>43.511828</td>\n",
       "      <td>2.619777</td>\n",
       "      <td>2.844052</td>\n",
       "    </tr>\n",
       "    <tr>\n",
       "      <th>std</th>\n",
       "      <td>16.774158</td>\n",
       "      <td>3.390790</td>\n",
       "      <td>1.536427</td>\n",
       "    </tr>\n",
       "    <tr>\n",
       "      <th>min</th>\n",
       "      <td>18.000000</td>\n",
       "      <td>0.000000</td>\n",
       "      <td>1.000000</td>\n",
       "    </tr>\n",
       "    <tr>\n",
       "      <th>25%</th>\n",
       "      <td>30.000000</td>\n",
       "      <td>0.000000</td>\n",
       "      <td>2.000000</td>\n",
       "    </tr>\n",
       "    <tr>\n",
       "      <th>50%</th>\n",
       "      <td>41.000000</td>\n",
       "      <td>1.000000</td>\n",
       "      <td>3.000000</td>\n",
       "    </tr>\n",
       "    <tr>\n",
       "      <th>75%</th>\n",
       "      <td>53.000000</td>\n",
       "      <td>4.000000</td>\n",
       "      <td>4.000000</td>\n",
       "    </tr>\n",
       "    <tr>\n",
       "      <th>max</th>\n",
       "      <td>89.000000</td>\n",
       "      <td>14.000000</td>\n",
       "      <td>9.000000</td>\n",
       "    </tr>\n",
       "  </tbody>\n",
       "</table>\n",
       "</div>"
      ],
      "text/plain": [
       "                Age  Work_Experience   Family_Size\n",
       "count  10695.000000      9597.000000  10247.000000\n",
       "mean      43.511828         2.619777      2.844052\n",
       "std       16.774158         3.390790      1.536427\n",
       "min       18.000000         0.000000      1.000000\n",
       "25%       30.000000         0.000000      2.000000\n",
       "50%       41.000000         1.000000      3.000000\n",
       "75%       53.000000         4.000000      4.000000\n",
       "max       89.000000        14.000000      9.000000"
      ]
     },
     "execution_count": 750,
     "metadata": {},
     "output_type": "execute_result"
    }
   ],
   "source": [
    "df.describe()"
   ]
  },
  {
   "cell_type": "code",
   "execution_count": 751,
   "id": "ecacb62c",
   "metadata": {},
   "outputs": [],
   "source": [
    "def graficos_eda_categoricos(cat):\n",
    "    \n",
    "    #Calculamos el número de filas que necesitamos\n",
    "    from math import ceil\n",
    "    filas = ceil(cat.shape[1] / 2)\n",
    "\n",
    "    #Definimos el gráfico\n",
    "    f, ax = plt.subplots(nrows = filas, ncols = 2, figsize = (16, filas * 6))\n",
    "\n",
    "    #Aplanamos para iterar por el gráfico como si fuera de 1 dimensión en lugar de 2\n",
    "    ax = ax.flat \n",
    "\n",
    "    #Creamos el bucle que va añadiendo gráficos\n",
    "    for cada, variable in enumerate(cat):\n",
    "        cat[variable].value_counts().plot.barh(ax = ax[cada])\n",
    "        ax[cada].set_title(variable, fontsize = 12, fontweight = \"bold\")\n",
    "        ax[cada].tick_params(labelsize = 12)"
   ]
  },
  {
   "cell_type": "code",
   "execution_count": 752,
   "id": "59a6ef35",
   "metadata": {},
   "outputs": [
    {
     "data": {
      "image/png": "[encoded data removed]",
      "text/plain": [
       "<Figure size 1600x2400 with 8 Axes>"
      ]
     },
     "metadata": {},
     "output_type": "display_data"
    }
   ],
   "source": [
    "graficos_eda_categoricos(df.select_dtypes('O'))"
   ]
  },
  {
   "cell_type": "markdown",
   "id": "efb7d7f4",
   "metadata": {},
   "source": [
    "### Data cleaning"
   ]
  },
  {
   "cell_type": "markdown",
   "id": "a07546d2",
   "metadata": {},
   "source": [
    "#### Ever Married"
   ]
  },
  {
   "cell_type": "code",
   "execution_count": 753,
   "id": "c098de21",
   "metadata": {},
   "outputs": [
    {
     "data": {
      "text/plain": [
       "Ever_Married\n",
       "Yes    0.586673\n",
       "No     0.413327\n",
       "Name: proportion, dtype: float64"
      ]
     },
     "execution_count": 753,
     "metadata": {},
     "output_type": "execute_result"
    }
   ],
   "source": [
    "df['Ever_Married'].value_counts(normalize=True)"
   ]
  },
  {
   "cell_type": "code",
   "execution_count": 754,
   "id": "3bc5fce7",
   "metadata": {},
   "outputs": [
    {
     "data": {
      "text/plain": [
       "Var_1  Segmentation\n",
       "Cat_1  A                2\n",
       "       B                1\n",
       "       D                1\n",
       "Cat_2  C                6\n",
       "       B                4\n",
       "       D                4\n",
       "       A                2\n",
       "Cat_3  D               16\n",
       "       A               13\n",
       "       B                6\n",
       "       C                5\n",
       "Cat_4  A               13\n",
       "       D               12\n",
       "       B                8\n",
       "       C                6\n",
       "Cat_5  D                1\n",
       "       A                1\n",
       "Cat_6  D               28\n",
       "       A               26\n",
       "       B               17\n",
       "       C               12\n",
       "Cat_7  D                2\n",
       "       A                1\n",
       "       B                1\n",
       "Name: count, dtype: int64"
      ]
     },
     "execution_count": 754,
     "metadata": {},
     "output_type": "execute_result"
    }
   ],
   "source": [
    "df[df['Ever_Married'].isna()].groupby('Var_1')['Segmentation'].value_counts()"
   ]
  },
  {
   "cell_type": "code",
   "execution_count": 755,
   "id": "e3236706",
   "metadata": {},
   "outputs": [
    {
     "data": {
      "text/plain": [
       "Gender  Segmentation\n",
       "Female  C                821\n",
       "        B                702\n",
       "        A                630\n",
       "        D                338\n",
       "Male    C               1062\n",
       "        B               1003\n",
       "        A                981\n",
       "        D                626\n",
       "Name: count, dtype: int64"
      ]
     },
     "execution_count": 755,
     "metadata": {},
     "output_type": "execute_result"
    }
   ],
   "source": [
    "df[df['Ever_Married']=='Yes'].groupby('Gender')['Segmentation'].value_counts()\n",
    "#Seleccionamos el dataset con perosnas casadas agrupadas por genero y vemos donde estan segmemntadas\n",
    "#NOtamos que predominan segmentos C y B en ambos"
   ]
  },
  {
   "cell_type": "code",
   "execution_count": 756,
   "id": "c70bfa22",
   "metadata": {},
   "outputs": [
    {
     "data": {
      "text/plain": [
       "Gender  Segmentation\n",
       "Female  D                933\n",
       "        A                640\n",
       "        B                377\n",
       "        C                307\n",
       "Male    D               1066\n",
       "        A                508\n",
       "        B                288\n",
       "        C                223\n",
       "Name: count, dtype: int64"
      ]
     },
     "execution_count": 756,
     "metadata": {},
     "output_type": "execute_result"
    }
   ],
   "source": [
    "df[df['Ever_Married']=='No'].groupby('Gender')['Segmentation'].value_counts()\n",
    "# the same dataset but the difference in this dataset predomina D y A"
   ]
  },
  {
   "cell_type": "markdown",
   "id": "69bc8053",
   "metadata": {},
   "source": [
    "#### Rellenamos con No en esta variable"
   ]
  },
  {
   "cell_type": "code",
   "execution_count": 757,
   "id": "a5c5fc30",
   "metadata": {},
   "outputs": [],
   "source": [
    "df['Ever_Married'].fillna('No',inplace=True)"
   ]
  },
  {
   "cell_type": "code",
   "execution_count": 758,
   "id": "5406eceb",
   "metadata": {},
   "outputs": [
    {
     "data": {
      "text/plain": [
       "0"
      ]
     },
     "execution_count": 758,
     "metadata": {},
     "output_type": "execute_result"
    }
   ],
   "source": [
    "df['Ever_Married'].isna().sum()"
   ]
  },
  {
   "cell_type": "markdown",
   "id": "3ff253da",
   "metadata": {},
   "source": [
    "### Profesion"
   ]
  },
  {
   "cell_type": "code",
   "execution_count": 759,
   "id": "50b01607",
   "metadata": {},
   "outputs": [
    {
     "data": {
      "text/plain": [
       "Profession\n",
       "Artist           0.315010\n",
       "Healthcare       0.166144\n",
       "Entertainment    0.118675\n",
       "Engineer         0.088769\n",
       "Doctor           0.088294\n",
       "Lawyer           0.080129\n",
       "Executive        0.073578\n",
       "Marketing        0.038261\n",
       "Homemaker        0.031140\n",
       "Name: proportion, dtype: float64"
      ]
     },
     "execution_count": 759,
     "metadata": {},
     "output_type": "execute_result"
    }
   ],
   "source": [
    "df['Profession'].value_counts(normalize=True)"
   ]
  },
  {
   "cell_type": "code",
   "execution_count": 760,
   "id": "eb32cabc",
   "metadata": {},
   "outputs": [
    {
     "data": {
      "text/plain": [
       "Var_1  Segmentation\n",
       "Cat_1  D               1.000000\n",
       "Cat_2  B               0.666667\n",
       "       A               0.333333\n",
       "Cat_3  A               0.384615\n",
       "       D               0.269231\n",
       "       C               0.192308\n",
       "       B               0.153846\n",
       "Cat_4  D               0.536585\n",
       "       A               0.195122\n",
       "       B               0.170732\n",
       "       C               0.097561\n",
       "Cat_5  D               1.000000\n",
       "Cat_6  D               0.302632\n",
       "       A               0.276316\n",
       "       B               0.223684\n",
       "       C               0.197368\n",
       "Cat_7  A               0.500000\n",
       "       C               0.300000\n",
       "       D               0.200000\n",
       "Name: proportion, dtype: float64"
      ]
     },
     "execution_count": 760,
     "metadata": {},
     "output_type": "execute_result"
    }
   ],
   "source": [
    "df[df['Profession'].isna()].groupby('Var_1')['Segmentation'].value_counts(normalize=True)"
   ]
  },
  {
   "cell_type": "code",
   "execution_count": 761,
   "id": "c9497ec8",
   "metadata": {},
   "outputs": [
    {
     "data": {
      "text/plain": [
       "Var_1  Segmentation\n",
       "Cat_1  D               0.687500\n",
       "       C               0.156250\n",
       "       A               0.156250\n",
       "Cat_2  D               0.682635\n",
       "       A               0.131737\n",
       "       B               0.101796\n",
       "       C               0.083832\n",
       "Cat_3  D               0.708333\n",
       "       A               0.166667\n",
       "       C               0.083333\n",
       "       B               0.041667\n",
       "Cat_4  D               0.673759\n",
       "       B               0.141844\n",
       "       A               0.106383\n",
       "       C               0.078014\n",
       "Cat_5  D               0.516129\n",
       "       A               0.225806\n",
       "       B               0.129032\n",
       "       C               0.129032\n",
       "Cat_6  D               0.675000\n",
       "       A               0.131250\n",
       "       C               0.111458\n",
       "       B               0.082292\n",
       "Cat_7  D               0.650794\n",
       "       B               0.142857\n",
       "       A               0.126984\n",
       "       C               0.079365\n",
       "Name: proportion, dtype: float64"
      ]
     },
     "execution_count": 761,
     "metadata": {},
     "output_type": "execute_result"
    }
   ],
   "source": [
    "df[df['Profession']=='Healthcare'].groupby('Var_1')['Segmentation'].value_counts(normalize=True)"
   ]
  },
  {
   "cell_type": "code",
   "execution_count": 762,
   "id": "ddf55755",
   "metadata": {},
   "outputs": [
    {
     "data": {
      "text/plain": [
       "Var_1  Segmentation\n",
       "Cat_1  B               0.363636\n",
       "       A               0.272727\n",
       "       D               0.181818\n",
       "       C               0.181818\n",
       "Cat_2  B               0.448276\n",
       "       A               0.241379\n",
       "       D               0.206897\n",
       "       C               0.103448\n",
       "Cat_3  A               0.300813\n",
       "       B               0.292683\n",
       "       D               0.268293\n",
       "       C               0.138211\n",
       "Cat_4  A               0.439716\n",
       "       B               0.234043\n",
       "       D               0.219858\n",
       "       C               0.106383\n",
       "Cat_5  A               0.600000\n",
       "       B               0.200000\n",
       "       C               0.100000\n",
       "       D               0.100000\n",
       "Cat_6  A               0.331858\n",
       "       D               0.272124\n",
       "       B               0.254425\n",
       "       C               0.141593\n",
       "Cat_7  A               0.454545\n",
       "       D               0.227273\n",
       "       B               0.181818\n",
       "       C               0.136364\n",
       "Name: proportion, dtype: float64"
      ]
     },
     "execution_count": 762,
     "metadata": {},
     "output_type": "execute_result"
    }
   ],
   "source": [
    "df[df['Profession']=='Engineer'].groupby('Var_1')['Segmentation'].value_counts(normalize=True)"
   ]
  },
  {
   "cell_type": "code",
   "execution_count": 763,
   "id": "13781d44",
   "metadata": {},
   "outputs": [
    {
     "data": {
      "text/plain": [
       "Var_1  Segmentation\n",
       "Cat_1  C               0.340426\n",
       "       B               0.319149\n",
       "       A               0.234043\n",
       "       D               0.106383\n",
       "Cat_2  C               0.413174\n",
       "       B               0.269461\n",
       "       A               0.239521\n",
       "       D               0.077844\n",
       "Cat_3  C               0.329457\n",
       "       B               0.321705\n",
       "       A               0.282946\n",
       "       D               0.065891\n",
       "Cat_4  A               0.313653\n",
       "       B               0.291513\n",
       "       C               0.217712\n",
       "       D               0.177122\n",
       "Cat_5  C               0.333333\n",
       "       D               0.277778\n",
       "       B               0.194444\n",
       "       A               0.194444\n",
       "Cat_6  C               0.395041\n",
       "       B               0.279339\n",
       "       A               0.237190\n",
       "       D               0.088430\n",
       "Cat_7  C               0.373494\n",
       "       A               0.301205\n",
       "       B               0.228916\n",
       "       D               0.096386\n",
       "Name: proportion, dtype: float64"
      ]
     },
     "execution_count": 763,
     "metadata": {},
     "output_type": "execute_result"
    }
   ],
   "source": [
    "df[df['Profession']=='Artist'].groupby('Var_1')['Segmentation'].value_counts(normalize=True)"
   ]
  },
  {
   "cell_type": "code",
   "execution_count": 764,
   "id": "00d27e04",
   "metadata": {},
   "outputs": [],
   "source": [
    "### Rellanamos con 'HealthCare'"
   ]
  },
  {
   "cell_type": "code",
   "execution_count": 765,
   "id": "93f2cfdd",
   "metadata": {},
   "outputs": [],
   "source": [
    "df['Profession'].fillna('Healthcare',inplace=True)"
   ]
  },
  {
   "cell_type": "code",
   "execution_count": 766,
   "id": "db86818c",
   "metadata": {},
   "outputs": [
    {
     "data": {
      "text/plain": [
       "0"
      ]
     },
     "execution_count": 766,
     "metadata": {},
     "output_type": "execute_result"
    }
   ],
   "source": [
    "df['Profession'].isna().sum()"
   ]
  },
  {
   "cell_type": "markdown",
   "id": "512dcb58",
   "metadata": {},
   "source": [
    "### Var_1"
   ]
  },
  {
   "cell_type": "code",
   "execution_count": 767,
   "id": "3ccb6c44",
   "metadata": {},
   "outputs": [
    {
     "data": {
      "text/plain": [
       "Var_1\n",
       "Cat_6    65.268726\n",
       "Cat_4    13.932181\n",
       "Cat_3    10.286200\n",
       "Cat_2     5.317843\n",
       "Cat_7     2.540852\n",
       "Cat_1     1.577406\n",
       "Cat_5     1.076792\n",
       "Name: proportion, dtype: float64"
      ]
     },
     "execution_count": 767,
     "metadata": {},
     "output_type": "execute_result"
    }
   ],
   "source": [
    "df['Var_1'].value_counts(normalize=True)*100"
   ]
  },
  {
   "cell_type": "code",
   "execution_count": 768,
   "id": "b69d0f7d",
   "metadata": {},
   "outputs": [
    {
     "data": {
      "text/plain": [
       "Spending_Score  Segmentation\n",
       "Average         C               36.000000\n",
       "                A               28.000000\n",
       "                B               20.000000\n",
       "                D               16.000000\n",
       "High            B               40.000000\n",
       "                A               26.666667\n",
       "                C               26.666667\n",
       "                D                6.666667\n",
       "Low             D               38.235294\n",
       "                A               29.411765\n",
       "                C               20.588235\n",
       "                B               11.764706\n",
       "Name: proportion, dtype: float64"
      ]
     },
     "execution_count": 768,
     "metadata": {},
     "output_type": "execute_result"
    }
   ],
   "source": [
    "df[df['Var_1'].isna()].groupby('Spending_Score')['Segmentation'].value_counts(normalize=True)*100"
   ]
  },
  {
   "cell_type": "code",
   "execution_count": 769,
   "id": "d6fb1e4f",
   "metadata": {},
   "outputs": [
    {
     "data": {
      "text/plain": [
       "Gender  Segmentation\n",
       "Female  D               28.813559\n",
       "        A               23.728814\n",
       "        B               23.728814\n",
       "        C               23.728814\n",
       "Male    A               34.693878\n",
       "        D               28.571429\n",
       "        C               26.530612\n",
       "        B               10.204082\n",
       "Name: proportion, dtype: float64"
      ]
     },
     "execution_count": 769,
     "metadata": {},
     "output_type": "execute_result"
    }
   ],
   "source": [
    "df[df['Var_1'].isna()].groupby('Gender')['Segmentation'].value_counts(normalize=True)*100"
   ]
  },
  {
   "cell_type": "code",
   "execution_count": 770,
   "id": "dc63d07e",
   "metadata": {},
   "outputs": [
    {
     "data": {
      "text/plain": [
       "Gender  Segmentation\n",
       "Female  C               27.041322\n",
       "        A               25.388430\n",
       "        D               24.958678\n",
       "        B               22.611570\n",
       "Male    D               25.997426\n",
       "        C               25.508366\n",
       "        A               25.328185\n",
       "        B               23.166023\n",
       "Name: proportion, dtype: float64"
      ]
     },
     "execution_count": 770,
     "metadata": {},
     "output_type": "execute_result"
    }
   ],
   "source": [
    "df[df['Var_1']=='Cat_6'].groupby('Gender')['Segmentation'].value_counts(normalize=True)*100"
   ]
  },
  {
   "cell_type": "code",
   "execution_count": 771,
   "id": "b376dad8",
   "metadata": {},
   "outputs": [
    {
     "data": {
      "text/plain": [
       "Spending_Score  Segmentation\n",
       "Average         C               46.937538\n",
       "                B               27.835052\n",
       "                A               17.525773\n",
       "                D                7.701637\n",
       "High            C               35.351882\n",
       "                B               28.968903\n",
       "                A               23.322422\n",
       "                D               12.356792\n",
       "Low             D               36.816044\n",
       "                A               29.165635\n",
       "                B               19.088883\n",
       "                C               14.929438\n",
       "Name: proportion, dtype: float64"
      ]
     },
     "execution_count": 771,
     "metadata": {},
     "output_type": "execute_result"
    }
   ],
   "source": [
    "df[df['Var_1']=='Cat_6'].groupby('Spending_Score')['Segmentation'].value_counts(normalize=True)*100"
   ]
  },
  {
   "cell_type": "code",
   "execution_count": 772,
   "id": "377e8e98",
   "metadata": {},
   "outputs": [
    {
     "data": {
      "text/plain": [
       "Gender  Segmentation\n",
       "Female  A               34.054834\n",
       "        D               31.746032\n",
       "        B               21.645022\n",
       "        C               12.554113\n",
       "Male    D               39.386189\n",
       "        A               27.365729\n",
       "        B               21.739130\n",
       "        C               11.508951\n",
       "Name: proportion, dtype: float64"
      ]
     },
     "execution_count": 772,
     "metadata": {},
     "output_type": "execute_result"
    }
   ],
   "source": [
    "df[df['Var_1']=='Cat_4'].groupby('Gender')['Segmentation'].value_counts(normalize=True)*100"
   ]
  },
  {
   "cell_type": "code",
   "execution_count": 773,
   "id": "6874026b",
   "metadata": {},
   "outputs": [
    {
     "data": {
      "text/plain": [
       "Spending_Score  Segmentation\n",
       "Average         B               31.540342\n",
       "                A               31.295844\n",
       "                D               20.293399\n",
       "                C               16.870416\n",
       "High            A               30.967742\n",
       "                D               29.677419\n",
       "                B               27.096774\n",
       "                C               12.258065\n",
       "Low             D               43.798024\n",
       "                A               30.076839\n",
       "                B               16.355653\n",
       "                C                9.769484\n",
       "Name: proportion, dtype: float64"
      ]
     },
     "execution_count": 773,
     "metadata": {},
     "output_type": "execute_result"
    }
   ],
   "source": [
    "df[df['Var_1']=='Cat_4'].groupby('Spending_Score')['Segmentation'].value_counts(normalize=True)*100"
   ]
  },
  {
   "cell_type": "code",
   "execution_count": 774,
   "id": "a83f17fe",
   "metadata": {},
   "outputs": [
    {
     "data": {
      "text/plain": [
       "Gender  Segmentation\n",
       "Female  D               29.377432\n",
       "        A               28.988327\n",
       "        B               22.373541\n",
       "        C               19.260700\n",
       "Male    D               32.347826\n",
       "        A               29.043478\n",
       "        B               21.565217\n",
       "        C               17.043478\n",
       "Name: proportion, dtype: float64"
      ]
     },
     "execution_count": 774,
     "metadata": {},
     "output_type": "execute_result"
    }
   ],
   "source": [
    "df[df['Var_1']=='Cat_3'].groupby('Gender')['Segmentation'].value_counts(normalize=True)*100"
   ]
  },
  {
   "cell_type": "code",
   "execution_count": 775,
   "id": "17b12643",
   "metadata": {},
   "outputs": [
    {
     "data": {
      "text/plain": [
       "Spending_Score  Segmentation\n",
       "Average         C               33.720930\n",
       "                B               27.906977\n",
       "                A               27.131783\n",
       "                D               11.240310\n",
       "High            A               30.851064\n",
       "                B               24.468085\n",
       "                C               22.340426\n",
       "                D               22.340426\n",
       "Low             D               38.941655\n",
       "                A               29.443691\n",
       "                B               19.538670\n",
       "                C               12.075984\n",
       "Name: proportion, dtype: float64"
      ]
     },
     "execution_count": 775,
     "metadata": {},
     "output_type": "execute_result"
    }
   ],
   "source": [
    "df[df['Var_1']=='Cat_3'].groupby('Spending_Score')['Segmentation'].value_counts(normalize=True)*100"
   ]
  },
  {
   "cell_type": "markdown",
   "id": "5c965270",
   "metadata": {},
   "source": [
    "#### Rellanmos con Cat_4"
   ]
  },
  {
   "cell_type": "code",
   "execution_count": 776,
   "id": "8f4a0dbc",
   "metadata": {},
   "outputs": [],
   "source": [
    "df['Var_1'].fillna('Cat_4',inplace=True)"
   ]
  },
  {
   "cell_type": "markdown",
   "id": "f319040c",
   "metadata": {},
   "source": [
    "### Graduated"
   ]
  },
  {
   "cell_type": "code",
   "execution_count": 777,
   "id": "a40f0adc",
   "metadata": {},
   "outputs": [
    {
     "data": {
      "text/plain": [
       "Graduated\n",
       "Yes    62.02209\n",
       "No     37.97791\n",
       "Name: proportion, dtype: float64"
      ]
     },
     "execution_count": 777,
     "metadata": {},
     "output_type": "execute_result"
    }
   ],
   "source": [
    "df['Graduated'].value_counts(normalize=True)*100"
   ]
  },
  {
   "cell_type": "code",
   "execution_count": 778,
   "id": "e0a5cf25",
   "metadata": {},
   "outputs": [
    {
     "data": {
      "text/plain": [
       "Spending_Score  Segmentation\n",
       "Average         B               37.037037\n",
       "                C               29.629630\n",
       "                A               18.518519\n",
       "                D               14.814815\n",
       "High            A               40.000000\n",
       "                B               20.000000\n",
       "                C               20.000000\n",
       "                D               20.000000\n",
       "Low             D               33.333333\n",
       "                A               31.666667\n",
       "                B               18.333333\n",
       "                C               16.666667\n",
       "Name: proportion, dtype: float64"
      ]
     },
     "execution_count": 778,
     "metadata": {},
     "output_type": "execute_result"
    }
   ],
   "source": [
    "df[df['Graduated'].isna()].groupby('Spending_Score')['Segmentation'].value_counts(normalize=True)*100"
   ]
  },
  {
   "cell_type": "code",
   "execution_count": 779,
   "id": "20080de2",
   "metadata": {},
   "outputs": [
    {
     "data": {
      "text/plain": [
       "Gender  Segmentation\n",
       "Female  D               31.707317\n",
       "        A               29.268293\n",
       "        C               24.390244\n",
       "        B               14.634146\n",
       "Male    A               29.508197\n",
       "        B               29.508197\n",
       "        D               22.950820\n",
       "        C               18.032787\n",
       "Name: proportion, dtype: float64"
      ]
     },
     "execution_count": 779,
     "metadata": {},
     "output_type": "execute_result"
    }
   ],
   "source": [
    "df[df['Graduated'].isna()].groupby('Gender')['Segmentation'].value_counts(normalize=True)*100"
   ]
  },
  {
   "cell_type": "code",
   "execution_count": 780,
   "id": "0bd7bffe",
   "metadata": {},
   "outputs": [
    {
     "data": {
      "text/plain": [
       "Ever_Married  Segmentation\n",
       "No            D               40.909091\n",
       "              A               27.272727\n",
       "              B               20.454545\n",
       "              C               11.363636\n",
       "Yes           A               31.034483\n",
       "              C               27.586207\n",
       "              B               25.862069\n",
       "              D               15.517241\n",
       "Name: proportion, dtype: float64"
      ]
     },
     "execution_count": 780,
     "metadata": {},
     "output_type": "execute_result"
    }
   ],
   "source": [
    "df[df['Graduated'].isna()].groupby('Ever_Married')['Segmentation'].value_counts(normalize=True)*100"
   ]
  },
  {
   "cell_type": "code",
   "execution_count": 781,
   "id": "a28f3023",
   "metadata": {},
   "outputs": [
    {
     "data": {
      "text/plain": [
       "Spending_Score  Segmentation\n",
       "Average         C               47.581493\n",
       "                B               27.707676\n",
       "                A               17.139853\n",
       "                D                7.570978\n",
       "High            C               40.215264\n",
       "                B               29.256360\n",
       "                A               20.645793\n",
       "                D                9.882583\n",
       "Low             A               32.857926\n",
       "                D               26.549643\n",
       "                B               23.642348\n",
       "                C               16.950082\n",
       "Name: proportion, dtype: float64"
      ]
     },
     "execution_count": 781,
     "metadata": {},
     "output_type": "execute_result"
    }
   ],
   "source": [
    "df[df['Graduated']=='Yes'].groupby('Spending_Score')['Segmentation'].value_counts(normalize=True)*100"
   ]
  },
  {
   "cell_type": "code",
   "execution_count": 782,
   "id": "c2bc7c2d",
   "metadata": {},
   "outputs": [
    {
     "data": {
      "text/plain": [
       "Spending_Score  Segmentation\n",
       "Average         A               30.746269\n",
       "                B               30.149254\n",
       "                D               19.701493\n",
       "                C               19.402985\n",
       "High            A               31.150442\n",
       "                B               29.203540\n",
       "                D               23.716814\n",
       "                C               15.929204\n",
       "Low             D               54.555237\n",
       "                A               24.067432\n",
       "                B               11.800574\n",
       "                C                9.576758\n",
       "Name: proportion, dtype: float64"
      ]
     },
     "execution_count": 782,
     "metadata": {},
     "output_type": "execute_result"
    }
   ],
   "source": [
    "df[df['Graduated']=='No'].groupby('Spending_Score')['Segmentation'].value_counts(normalize=True)*100"
   ]
  },
  {
   "cell_type": "code",
   "execution_count": 783,
   "id": "03922dbe",
   "metadata": {},
   "outputs": [
    {
     "data": {
      "text/plain": [
       "Gender  Segmentation\n",
       "Female  C               29.770003\n",
       "        B               25.882734\n",
       "        A               25.850340\n",
       "        D               18.496923\n",
       "Male    C               29.141545\n",
       "        A               26.902096\n",
       "        B               25.523974\n",
       "        D               18.432386\n",
       "Name: proportion, dtype: float64"
      ]
     },
     "execution_count": 783,
     "metadata": {},
     "output_type": "execute_result"
    }
   ],
   "source": [
    "df[df['Graduated']=='Yes'].groupby('Gender')['Segmentation'].value_counts(normalize=True)*100"
   ]
  },
  {
   "cell_type": "code",
   "execution_count": 784,
   "id": "24ab7632",
   "metadata": {},
   "outputs": [
    {
     "data": {
      "text/plain": [
       "Gender  Segmentation\n",
       "Female  D               42.004635\n",
       "        A               28.505214\n",
       "        B               16.975666\n",
       "        C               12.514484\n",
       "Male    D               46.234219\n",
       "        A               24.423161\n",
       "        B               17.544623\n",
       "        C               11.797997\n",
       "Name: proportion, dtype: float64"
      ]
     },
     "execution_count": 784,
     "metadata": {},
     "output_type": "execute_result"
    }
   ],
   "source": [
    "df[df['Graduated']=='No'].groupby('Gender')['Segmentation'].value_counts(normalize=True)*100"
   ]
  },
  {
   "cell_type": "code",
   "execution_count": 785,
   "id": "14fc1fc7",
   "metadata": {},
   "outputs": [
    {
     "data": {
      "text/plain": [
       "Ever_Married  Segmentation\n",
       "No            A               33.611599\n",
       "              D               30.492091\n",
       "              B               21.001757\n",
       "              C               14.894552\n",
       "Yes           C               37.144853\n",
       "              B               28.178854\n",
       "              A               22.589660\n",
       "              D               12.086633\n",
       "Name: proportion, dtype: float64"
      ]
     },
     "execution_count": 785,
     "metadata": {},
     "output_type": "execute_result"
    }
   ],
   "source": [
    "df[df['Graduated']=='Yes'].groupby('Ever_Married')['Segmentation'].value_counts(normalize=True)*100"
   ]
  },
  {
   "cell_type": "code",
   "execution_count": 786,
   "id": "b1a15802",
   "metadata": {},
   "outputs": [
    {
     "data": {
      "text/plain": [
       "Ever_Married  Segmentation\n",
       "No            D               61.075949\n",
       "              A               19.439421\n",
       "              B                9.764919\n",
       "              C                9.719711\n",
       "Yes           A               34.400883\n",
       "              B               26.504694\n",
       "              D               24.075097\n",
       "              C               15.019326\n",
       "Name: proportion, dtype: float64"
      ]
     },
     "execution_count": 786,
     "metadata": {},
     "output_type": "execute_result"
    }
   ],
   "source": [
    "df[df['Graduated']=='No'].groupby('Ever_Married')['Segmentation'].value_counts(normalize=True)*100"
   ]
  },
  {
   "cell_type": "code",
   "execution_count": 787,
   "id": "7b4cfca3",
   "metadata": {},
   "outputs": [],
   "source": [
    "### Rellenamos con 'No'"
   ]
  },
  {
   "cell_type": "code",
   "execution_count": 788,
   "id": "1acf8236",
   "metadata": {},
   "outputs": [],
   "source": [
    "df['Graduated'].fillna('No',inplace=True)"
   ]
  },
  {
   "cell_type": "code",
   "execution_count": 789,
   "id": "ff862dbc",
   "metadata": {},
   "outputs": [
    {
     "name": "stdout",
     "output_type": "stream",
     "text": [
      "<class 'pandas.core.frame.DataFrame'>\n",
      "RangeIndex: 10695 entries, 0 to 10694\n",
      "Data columns (total 10 columns):\n",
      " #   Column           Non-Null Count  Dtype  \n",
      "---  ------           --------------  -----  \n",
      " 0   Gender           10695 non-null  object \n",
      " 1   Ever_Married     10695 non-null  object \n",
      " 2   Age              10695 non-null  int64  \n",
      " 3   Graduated        10695 non-null  object \n",
      " 4   Profession       10695 non-null  object \n",
      " 5   Work_Experience  9597 non-null   float64\n",
      " 6   Spending_Score   10695 non-null  object \n",
      " 7   Family_Size      10247 non-null  float64\n",
      " 8   Var_1            10695 non-null  object \n",
      " 9   Segmentation     10695 non-null  object \n",
      "dtypes: float64(2), int64(1), object(7)\n",
      "memory usage: 835.7+ KB\n"
     ]
    }
   ],
   "source": [
    "df.info()"
   ]
  },
  {
   "cell_type": "code",
   "execution_count": 790,
   "id": "22513956",
   "metadata": {
    "scrolled": true
   },
   "outputs": [
    {
     "data": {
      "text/plain": [
       "Work_Experience    1098\n",
       "Family_Size         448\n",
       "Gender                0\n",
       "Ever_Married          0\n",
       "Age                   0\n",
       "Graduated             0\n",
       "Profession            0\n",
       "Spending_Score        0\n",
       "Var_1                 0\n",
       "Segmentation          0\n",
       "dtype: int64"
      ]
     },
     "execution_count": 790,
     "metadata": {},
     "output_type": "execute_result"
    }
   ],
   "source": [
    "df.isnull().sum().sort_values(ascending=False)"
   ]
  },
  {
   "cell_type": "markdown",
   "id": "6944400d",
   "metadata": {},
   "source": [
    "### Variables numericas"
   ]
  },
  {
   "cell_type": "code",
   "execution_count": 791,
   "id": "fc8b9b0a",
   "metadata": {},
   "outputs": [],
   "source": [
    "def estadisticos_cont(num):\n",
    "    #Calculamos describe\n",
    "    estadisticos = num.describe().T\n",
    "    #Añadimos la mediana\n",
    "    estadisticos['median'] = num.median()\n",
    "    #Reordenamos para que la mediana esté al lado de la media\n",
    "    estadisticos = estadisticos.iloc[:,[0,1,8,2,3,4,5,6,7]]\n",
    "    #Lo devolvemos\n",
    "    return(estadisticos)"
   ]
  },
  {
   "cell_type": "code",
   "execution_count": 792,
   "id": "f9a1a657",
   "metadata": {},
   "outputs": [
    {
     "data": {
      "text/html": [
       "<div>\n",
       "<style scoped>\n",
       "    .dataframe tbody tr th:only-of-type {\n",
       "        vertical-align: middle;\n",
       "    }\n",
       "\n",
       "    .dataframe tbody tr th {\n",
       "        vertical-align: top;\n",
       "    }\n",
       "\n",
       "    .dataframe thead th {\n",
       "        text-align: right;\n",
       "    }\n",
       "</style>\n",
       "<table border=\"1\" class=\"dataframe\">\n",
       "  <thead>\n",
       "    <tr style=\"text-align: right;\">\n",
       "      <th></th>\n",
       "      <th>count</th>\n",
       "      <th>mean</th>\n",
       "      <th>median</th>\n",
       "      <th>std</th>\n",
       "      <th>min</th>\n",
       "      <th>25%</th>\n",
       "      <th>50%</th>\n",
       "      <th>75%</th>\n",
       "      <th>max</th>\n",
       "    </tr>\n",
       "  </thead>\n",
       "  <tbody>\n",
       "    <tr>\n",
       "      <th>Age</th>\n",
       "      <td>10695.0</td>\n",
       "      <td>43.511828</td>\n",
       "      <td>41.0</td>\n",
       "      <td>16.774158</td>\n",
       "      <td>18.0</td>\n",
       "      <td>30.0</td>\n",
       "      <td>41.0</td>\n",
       "      <td>53.0</td>\n",
       "      <td>89.0</td>\n",
       "    </tr>\n",
       "    <tr>\n",
       "      <th>Work_Experience</th>\n",
       "      <td>9597.0</td>\n",
       "      <td>2.619777</td>\n",
       "      <td>1.0</td>\n",
       "      <td>3.390790</td>\n",
       "      <td>0.0</td>\n",
       "      <td>0.0</td>\n",
       "      <td>1.0</td>\n",
       "      <td>4.0</td>\n",
       "      <td>14.0</td>\n",
       "    </tr>\n",
       "    <tr>\n",
       "      <th>Family_Size</th>\n",
       "      <td>10247.0</td>\n",
       "      <td>2.844052</td>\n",
       "      <td>3.0</td>\n",
       "      <td>1.536427</td>\n",
       "      <td>1.0</td>\n",
       "      <td>2.0</td>\n",
       "      <td>3.0</td>\n",
       "      <td>4.0</td>\n",
       "      <td>9.0</td>\n",
       "    </tr>\n",
       "  </tbody>\n",
       "</table>\n",
       "</div>"
      ],
      "text/plain": [
       "                   count       mean  median        std   min   25%   50%  \\\n",
       "Age              10695.0  43.511828    41.0  16.774158  18.0  30.0  41.0   \n",
       "Work_Experience   9597.0   2.619777     1.0   3.390790   0.0   0.0   1.0   \n",
       "Family_Size      10247.0   2.844052     3.0   1.536427   1.0   2.0   3.0   \n",
       "\n",
       "                  75%   max  \n",
       "Age              53.0  89.0  \n",
       "Work_Experience   4.0  14.0  \n",
       "Family_Size       4.0   9.0  "
      ]
     },
     "execution_count": 792,
     "metadata": {},
     "output_type": "execute_result"
    }
   ],
   "source": [
    "estadisticos_cont(df.select_dtypes('number'))"
   ]
  },
  {
   "cell_type": "markdown",
   "id": "4799ff46",
   "metadata": {},
   "source": [
    "#### Work_Experience"
   ]
  },
  {
   "cell_type": "code",
   "execution_count": 793,
   "id": "1872dcf8",
   "metadata": {},
   "outputs": [
    {
     "data": {
      "text/html": [
       "<div>\n",
       "<style scoped>\n",
       "    .dataframe tbody tr th:only-of-type {\n",
       "        vertical-align: middle;\n",
       "    }\n",
       "\n",
       "    .dataframe tbody tr th {\n",
       "        vertical-align: top;\n",
       "    }\n",
       "\n",
       "    .dataframe thead th {\n",
       "        text-align: right;\n",
       "    }\n",
       "</style>\n",
       "<table border=\"1\" class=\"dataframe\">\n",
       "  <thead>\n",
       "    <tr style=\"text-align: right;\">\n",
       "      <th></th>\n",
       "      <th>Gender</th>\n",
       "      <th>Ever_Married</th>\n",
       "      <th>Age</th>\n",
       "      <th>Graduated</th>\n",
       "      <th>Profession</th>\n",
       "      <th>Work_Experience</th>\n",
       "      <th>Spending_Score</th>\n",
       "      <th>Family_Size</th>\n",
       "      <th>Var_1</th>\n",
       "      <th>Segmentation</th>\n",
       "    </tr>\n",
       "  </thead>\n",
       "  <tbody>\n",
       "    <tr>\n",
       "      <th>1</th>\n",
       "      <td>Female</td>\n",
       "      <td>Yes</td>\n",
       "      <td>38</td>\n",
       "      <td>Yes</td>\n",
       "      <td>Engineer</td>\n",
       "      <td>NaN</td>\n",
       "      <td>Average</td>\n",
       "      <td>3.0</td>\n",
       "      <td>Cat_4</td>\n",
       "      <td>A</td>\n",
       "    </tr>\n",
       "    <tr>\n",
       "      <th>4</th>\n",
       "      <td>Female</td>\n",
       "      <td>Yes</td>\n",
       "      <td>40</td>\n",
       "      <td>Yes</td>\n",
       "      <td>Entertainment</td>\n",
       "      <td>NaN</td>\n",
       "      <td>High</td>\n",
       "      <td>6.0</td>\n",
       "      <td>Cat_6</td>\n",
       "      <td>A</td>\n",
       "    </tr>\n",
       "    <tr>\n",
       "      <th>13</th>\n",
       "      <td>Male</td>\n",
       "      <td>Yes</td>\n",
       "      <td>70</td>\n",
       "      <td>No</td>\n",
       "      <td>Lawyer</td>\n",
       "      <td>NaN</td>\n",
       "      <td>Low</td>\n",
       "      <td>1.0</td>\n",
       "      <td>Cat_6</td>\n",
       "      <td>A</td>\n",
       "    </tr>\n",
       "    <tr>\n",
       "      <th>39</th>\n",
       "      <td>Male</td>\n",
       "      <td>Yes</td>\n",
       "      <td>56</td>\n",
       "      <td>Yes</td>\n",
       "      <td>Artist</td>\n",
       "      <td>NaN</td>\n",
       "      <td>Average</td>\n",
       "      <td>2.0</td>\n",
       "      <td>Cat_6</td>\n",
       "      <td>C</td>\n",
       "    </tr>\n",
       "    <tr>\n",
       "      <th>45</th>\n",
       "      <td>Female</td>\n",
       "      <td>Yes</td>\n",
       "      <td>79</td>\n",
       "      <td>No</td>\n",
       "      <td>Lawyer</td>\n",
       "      <td>NaN</td>\n",
       "      <td>High</td>\n",
       "      <td>2.0</td>\n",
       "      <td>Cat_6</td>\n",
       "      <td>A</td>\n",
       "    </tr>\n",
       "    <tr>\n",
       "      <th>...</th>\n",
       "      <td>...</td>\n",
       "      <td>...</td>\n",
       "      <td>...</td>\n",
       "      <td>...</td>\n",
       "      <td>...</td>\n",
       "      <td>...</td>\n",
       "      <td>...</td>\n",
       "      <td>...</td>\n",
       "      <td>...</td>\n",
       "      <td>...</td>\n",
       "    </tr>\n",
       "    <tr>\n",
       "      <th>10615</th>\n",
       "      <td>Female</td>\n",
       "      <td>Yes</td>\n",
       "      <td>35</td>\n",
       "      <td>Yes</td>\n",
       "      <td>Artist</td>\n",
       "      <td>NaN</td>\n",
       "      <td>Average</td>\n",
       "      <td>4.0</td>\n",
       "      <td>Cat_6</td>\n",
       "      <td>D</td>\n",
       "    </tr>\n",
       "    <tr>\n",
       "      <th>10640</th>\n",
       "      <td>Female</td>\n",
       "      <td>No</td>\n",
       "      <td>23</td>\n",
       "      <td>No</td>\n",
       "      <td>Healthcare</td>\n",
       "      <td>NaN</td>\n",
       "      <td>Low</td>\n",
       "      <td>2.0</td>\n",
       "      <td>Cat_6</td>\n",
       "      <td>D</td>\n",
       "    </tr>\n",
       "    <tr>\n",
       "      <th>10656</th>\n",
       "      <td>Female</td>\n",
       "      <td>No</td>\n",
       "      <td>29</td>\n",
       "      <td>No</td>\n",
       "      <td>Artist</td>\n",
       "      <td>NaN</td>\n",
       "      <td>Low</td>\n",
       "      <td>4.0</td>\n",
       "      <td>Cat_4</td>\n",
       "      <td>D</td>\n",
       "    </tr>\n",
       "    <tr>\n",
       "      <th>10661</th>\n",
       "      <td>Female</td>\n",
       "      <td>Yes</td>\n",
       "      <td>51</td>\n",
       "      <td>Yes</td>\n",
       "      <td>Artist</td>\n",
       "      <td>NaN</td>\n",
       "      <td>High</td>\n",
       "      <td>4.0</td>\n",
       "      <td>Cat_6</td>\n",
       "      <td>A</td>\n",
       "    </tr>\n",
       "    <tr>\n",
       "      <th>10692</th>\n",
       "      <td>Female</td>\n",
       "      <td>No</td>\n",
       "      <td>53</td>\n",
       "      <td>Yes</td>\n",
       "      <td>Entertainment</td>\n",
       "      <td>NaN</td>\n",
       "      <td>Low</td>\n",
       "      <td>2.0</td>\n",
       "      <td>Cat_6</td>\n",
       "      <td>C</td>\n",
       "    </tr>\n",
       "  </tbody>\n",
       "</table>\n",
       "<p>1098 rows × 10 columns</p>\n",
       "</div>"
      ],
      "text/plain": [
       "       Gender Ever_Married  Age Graduated     Profession  Work_Experience  \\\n",
       "1      Female          Yes   38       Yes       Engineer              NaN   \n",
       "4      Female          Yes   40       Yes  Entertainment              NaN   \n",
       "13       Male          Yes   70        No         Lawyer              NaN   \n",
       "39       Male          Yes   56       Yes         Artist              NaN   \n",
       "45     Female          Yes   79        No         Lawyer              NaN   \n",
       "...       ...          ...  ...       ...            ...              ...   \n",
       "10615  Female          Yes   35       Yes         Artist              NaN   \n",
       "10640  Female           No   23        No     Healthcare              NaN   \n",
       "10656  Female           No   29        No         Artist              NaN   \n",
       "10661  Female          Yes   51       Yes         Artist              NaN   \n",
       "10692  Female           No   53       Yes  Entertainment              NaN   \n",
       "\n",
       "      Spending_Score  Family_Size  Var_1 Segmentation  \n",
       "1            Average          3.0  Cat_4            A  \n",
       "4               High          6.0  Cat_6            A  \n",
       "13               Low          1.0  Cat_6            A  \n",
       "39           Average          2.0  Cat_6            C  \n",
       "45              High          2.0  Cat_6            A  \n",
       "...              ...          ...    ...          ...  \n",
       "10615        Average          4.0  Cat_6            D  \n",
       "10640            Low          2.0  Cat_6            D  \n",
       "10656            Low          4.0  Cat_4            D  \n",
       "10661           High          4.0  Cat_6            A  \n",
       "10692            Low          2.0  Cat_6            C  \n",
       "\n",
       "[1098 rows x 10 columns]"
      ]
     },
     "execution_count": 793,
     "metadata": {},
     "output_type": "execute_result"
    }
   ],
   "source": [
    "df[df['Work_Experience'].isna()]"
   ]
  },
  {
   "cell_type": "code",
   "execution_count": 794,
   "id": "68cbb61d",
   "metadata": {},
   "outputs": [],
   "source": [
    "## Rellenamos con la median()"
   ]
  },
  {
   "cell_type": "code",
   "execution_count": 795,
   "id": "cca0608a",
   "metadata": {},
   "outputs": [],
   "source": [
    "df['Work_Experience'].fillna(df['Work_Experience'].median(),inplace=True)"
   ]
  },
  {
   "cell_type": "markdown",
   "id": "75c01d0f",
   "metadata": {},
   "source": [
    "### Family_Size"
   ]
  },
  {
   "cell_type": "code",
   "execution_count": 796,
   "id": "2abb86e4",
   "metadata": {},
   "outputs": [
    {
     "data": {
      "text/plain": [
       "4.188873305282843"
      ]
     },
     "execution_count": 796,
     "metadata": {},
     "output_type": "execute_result"
    }
   ],
   "source": [
    "len(df[df['Family_Size'].isna()])/len(df)*100\n"
   ]
  },
  {
   "cell_type": "code",
   "execution_count": 797,
   "id": "8f8e00f6",
   "metadata": {},
   "outputs": [],
   "source": [
    "df=df.dropna()"
   ]
  },
  {
   "cell_type": "code",
   "execution_count": 798,
   "id": "ea1287b4",
   "metadata": {},
   "outputs": [
    {
     "name": "stdout",
     "output_type": "stream",
     "text": [
      "<class 'pandas.core.frame.DataFrame'>\n",
      "Index: 10247 entries, 0 to 10694\n",
      "Data columns (total 10 columns):\n",
      " #   Column           Non-Null Count  Dtype  \n",
      "---  ------           --------------  -----  \n",
      " 0   Gender           10247 non-null  object \n",
      " 1   Ever_Married     10247 non-null  object \n",
      " 2   Age              10247 non-null  int64  \n",
      " 3   Graduated        10247 non-null  object \n",
      " 4   Profession       10247 non-null  object \n",
      " 5   Work_Experience  10247 non-null  float64\n",
      " 6   Spending_Score   10247 non-null  object \n",
      " 7   Family_Size      10247 non-null  float64\n",
      " 8   Var_1            10247 non-null  object \n",
      " 9   Segmentation     10247 non-null  object \n",
      "dtypes: float64(2), int64(1), object(7)\n",
      "memory usage: 880.6+ KB\n"
     ]
    }
   ],
   "source": [
    "df.info()"
   ]
  },
  {
   "cell_type": "code",
   "execution_count": 799,
   "id": "511b0860",
   "metadata": {},
   "outputs": [
    {
     "data": {
      "text/html": [
       "<div>\n",
       "<style scoped>\n",
       "    .dataframe tbody tr th:only-of-type {\n",
       "        vertical-align: middle;\n",
       "    }\n",
       "\n",
       "    .dataframe tbody tr th {\n",
       "        vertical-align: top;\n",
       "    }\n",
       "\n",
       "    .dataframe thead th {\n",
       "        text-align: right;\n",
       "    }\n",
       "</style>\n",
       "<table border=\"1\" class=\"dataframe\">\n",
       "  <thead>\n",
       "    <tr style=\"text-align: right;\">\n",
       "      <th></th>\n",
       "      <th>Gender</th>\n",
       "      <th>Ever_Married</th>\n",
       "      <th>Age</th>\n",
       "      <th>Graduated</th>\n",
       "      <th>Profession</th>\n",
       "      <th>Work_Experience</th>\n",
       "      <th>Spending_Score</th>\n",
       "      <th>Family_Size</th>\n",
       "      <th>Var_1</th>\n",
       "      <th>Segmentation</th>\n",
       "    </tr>\n",
       "  </thead>\n",
       "  <tbody>\n",
       "    <tr>\n",
       "      <th>0</th>\n",
       "      <td>Male</td>\n",
       "      <td>No</td>\n",
       "      <td>22</td>\n",
       "      <td>No</td>\n",
       "      <td>Healthcare</td>\n",
       "      <td>1.0</td>\n",
       "      <td>Low</td>\n",
       "      <td>4.0</td>\n",
       "      <td>Cat_4</td>\n",
       "      <td>D</td>\n",
       "    </tr>\n",
       "    <tr>\n",
       "      <th>1</th>\n",
       "      <td>Female</td>\n",
       "      <td>Yes</td>\n",
       "      <td>38</td>\n",
       "      <td>Yes</td>\n",
       "      <td>Engineer</td>\n",
       "      <td>1.0</td>\n",
       "      <td>Average</td>\n",
       "      <td>3.0</td>\n",
       "      <td>Cat_4</td>\n",
       "      <td>A</td>\n",
       "    </tr>\n",
       "    <tr>\n",
       "      <th>2</th>\n",
       "      <td>Female</td>\n",
       "      <td>Yes</td>\n",
       "      <td>67</td>\n",
       "      <td>Yes</td>\n",
       "      <td>Engineer</td>\n",
       "      <td>1.0</td>\n",
       "      <td>Low</td>\n",
       "      <td>1.0</td>\n",
       "      <td>Cat_6</td>\n",
       "      <td>B</td>\n",
       "    </tr>\n",
       "    <tr>\n",
       "      <th>3</th>\n",
       "      <td>Male</td>\n",
       "      <td>Yes</td>\n",
       "      <td>67</td>\n",
       "      <td>Yes</td>\n",
       "      <td>Lawyer</td>\n",
       "      <td>0.0</td>\n",
       "      <td>High</td>\n",
       "      <td>2.0</td>\n",
       "      <td>Cat_6</td>\n",
       "      <td>B</td>\n",
       "    </tr>\n",
       "    <tr>\n",
       "      <th>4</th>\n",
       "      <td>Female</td>\n",
       "      <td>Yes</td>\n",
       "      <td>40</td>\n",
       "      <td>Yes</td>\n",
       "      <td>Entertainment</td>\n",
       "      <td>1.0</td>\n",
       "      <td>High</td>\n",
       "      <td>6.0</td>\n",
       "      <td>Cat_6</td>\n",
       "      <td>A</td>\n",
       "    </tr>\n",
       "  </tbody>\n",
       "</table>\n",
       "</div>"
      ],
      "text/plain": [
       "   Gender Ever_Married  Age Graduated     Profession  Work_Experience  \\\n",
       "0    Male           No   22        No     Healthcare              1.0   \n",
       "1  Female          Yes   38       Yes       Engineer              1.0   \n",
       "2  Female          Yes   67       Yes       Engineer              1.0   \n",
       "3    Male          Yes   67       Yes         Lawyer              0.0   \n",
       "4  Female          Yes   40       Yes  Entertainment              1.0   \n",
       "\n",
       "  Spending_Score  Family_Size  Var_1 Segmentation  \n",
       "0            Low          4.0  Cat_4            D  \n",
       "1        Average          3.0  Cat_4            A  \n",
       "2            Low          1.0  Cat_6            B  \n",
       "3           High          2.0  Cat_6            B  \n",
       "4           High          6.0  Cat_6            A  "
      ]
     },
     "execution_count": 799,
     "metadata": {},
     "output_type": "execute_result"
    }
   ],
   "source": [
    "df.head()"
   ]
  },
  {
   "cell_type": "code",
   "execution_count": 800,
   "id": "2d1bf7b1",
   "metadata": {},
   "outputs": [],
   "source": [
    "### Casos particulares\n",
    "#iltramos el data set con 14 años de experiencia y edad < 29 años"
   ]
  },
  {
   "cell_type": "code",
   "execution_count": 801,
   "id": "d610ff1d",
   "metadata": {},
   "outputs": [],
   "source": [
    "df=df.drop(df.loc[(df['Work_Experience']==14) & (df['Age']<=29)].index)"
   ]
  },
  {
   "cell_type": "code",
   "execution_count": 802,
   "id": "cc8c27bc",
   "metadata": {},
   "outputs": [
    {
     "data": {
      "text/html": [
       "<div>\n",
       "<style scoped>\n",
       "    .dataframe tbody tr th:only-of-type {\n",
       "        vertical-align: middle;\n",
       "    }\n",
       "\n",
       "    .dataframe tbody tr th {\n",
       "        vertical-align: top;\n",
       "    }\n",
       "\n",
       "    .dataframe thead th {\n",
       "        text-align: right;\n",
       "    }\n",
       "</style>\n",
       "<table border=\"1\" class=\"dataframe\">\n",
       "  <thead>\n",
       "    <tr style=\"text-align: right;\">\n",
       "      <th></th>\n",
       "      <th>Gender</th>\n",
       "      <th>Ever_Married</th>\n",
       "      <th>Age</th>\n",
       "      <th>Graduated</th>\n",
       "      <th>Profession</th>\n",
       "      <th>Work_Experience</th>\n",
       "      <th>Spending_Score</th>\n",
       "      <th>Family_Size</th>\n",
       "      <th>Var_1</th>\n",
       "      <th>Segmentation</th>\n",
       "    </tr>\n",
       "  </thead>\n",
       "  <tbody>\n",
       "    <tr>\n",
       "      <th>0</th>\n",
       "      <td>Male</td>\n",
       "      <td>No</td>\n",
       "      <td>22</td>\n",
       "      <td>No</td>\n",
       "      <td>Healthcare</td>\n",
       "      <td>1.0</td>\n",
       "      <td>Low</td>\n",
       "      <td>4.0</td>\n",
       "      <td>Cat_4</td>\n",
       "      <td>D</td>\n",
       "    </tr>\n",
       "    <tr>\n",
       "      <th>1</th>\n",
       "      <td>Female</td>\n",
       "      <td>Yes</td>\n",
       "      <td>38</td>\n",
       "      <td>Yes</td>\n",
       "      <td>Engineer</td>\n",
       "      <td>1.0</td>\n",
       "      <td>Average</td>\n",
       "      <td>3.0</td>\n",
       "      <td>Cat_4</td>\n",
       "      <td>A</td>\n",
       "    </tr>\n",
       "    <tr>\n",
       "      <th>2</th>\n",
       "      <td>Female</td>\n",
       "      <td>Yes</td>\n",
       "      <td>67</td>\n",
       "      <td>Yes</td>\n",
       "      <td>Engineer</td>\n",
       "      <td>1.0</td>\n",
       "      <td>Low</td>\n",
       "      <td>1.0</td>\n",
       "      <td>Cat_6</td>\n",
       "      <td>B</td>\n",
       "    </tr>\n",
       "    <tr>\n",
       "      <th>3</th>\n",
       "      <td>Male</td>\n",
       "      <td>Yes</td>\n",
       "      <td>67</td>\n",
       "      <td>Yes</td>\n",
       "      <td>Lawyer</td>\n",
       "      <td>0.0</td>\n",
       "      <td>High</td>\n",
       "      <td>2.0</td>\n",
       "      <td>Cat_6</td>\n",
       "      <td>B</td>\n",
       "    </tr>\n",
       "    <tr>\n",
       "      <th>4</th>\n",
       "      <td>Female</td>\n",
       "      <td>Yes</td>\n",
       "      <td>40</td>\n",
       "      <td>Yes</td>\n",
       "      <td>Entertainment</td>\n",
       "      <td>1.0</td>\n",
       "      <td>High</td>\n",
       "      <td>6.0</td>\n",
       "      <td>Cat_6</td>\n",
       "      <td>A</td>\n",
       "    </tr>\n",
       "    <tr>\n",
       "      <th>...</th>\n",
       "      <td>...</td>\n",
       "      <td>...</td>\n",
       "      <td>...</td>\n",
       "      <td>...</td>\n",
       "      <td>...</td>\n",
       "      <td>...</td>\n",
       "      <td>...</td>\n",
       "      <td>...</td>\n",
       "      <td>...</td>\n",
       "      <td>...</td>\n",
       "    </tr>\n",
       "    <tr>\n",
       "      <th>10690</th>\n",
       "      <td>Male</td>\n",
       "      <td>No</td>\n",
       "      <td>29</td>\n",
       "      <td>No</td>\n",
       "      <td>Healthcare</td>\n",
       "      <td>9.0</td>\n",
       "      <td>Low</td>\n",
       "      <td>4.0</td>\n",
       "      <td>Cat_6</td>\n",
       "      <td>B</td>\n",
       "    </tr>\n",
       "    <tr>\n",
       "      <th>10691</th>\n",
       "      <td>Female</td>\n",
       "      <td>No</td>\n",
       "      <td>35</td>\n",
       "      <td>Yes</td>\n",
       "      <td>Doctor</td>\n",
       "      <td>1.0</td>\n",
       "      <td>Low</td>\n",
       "      <td>1.0</td>\n",
       "      <td>Cat_6</td>\n",
       "      <td>A</td>\n",
       "    </tr>\n",
       "    <tr>\n",
       "      <th>10692</th>\n",
       "      <td>Female</td>\n",
       "      <td>No</td>\n",
       "      <td>53</td>\n",
       "      <td>Yes</td>\n",
       "      <td>Entertainment</td>\n",
       "      <td>1.0</td>\n",
       "      <td>Low</td>\n",
       "      <td>2.0</td>\n",
       "      <td>Cat_6</td>\n",
       "      <td>C</td>\n",
       "    </tr>\n",
       "    <tr>\n",
       "      <th>10693</th>\n",
       "      <td>Male</td>\n",
       "      <td>Yes</td>\n",
       "      <td>47</td>\n",
       "      <td>Yes</td>\n",
       "      <td>Executive</td>\n",
       "      <td>1.0</td>\n",
       "      <td>High</td>\n",
       "      <td>5.0</td>\n",
       "      <td>Cat_4</td>\n",
       "      <td>C</td>\n",
       "    </tr>\n",
       "    <tr>\n",
       "      <th>10694</th>\n",
       "      <td>Female</td>\n",
       "      <td>No</td>\n",
       "      <td>43</td>\n",
       "      <td>Yes</td>\n",
       "      <td>Healthcare</td>\n",
       "      <td>9.0</td>\n",
       "      <td>Low</td>\n",
       "      <td>3.0</td>\n",
       "      <td>Cat_7</td>\n",
       "      <td>A</td>\n",
       "    </tr>\n",
       "  </tbody>\n",
       "</table>\n",
       "<p>10228 rows × 10 columns</p>\n",
       "</div>"
      ],
      "text/plain": [
       "       Gender Ever_Married  Age Graduated     Profession  Work_Experience  \\\n",
       "0        Male           No   22        No     Healthcare              1.0   \n",
       "1      Female          Yes   38       Yes       Engineer              1.0   \n",
       "2      Female          Yes   67       Yes       Engineer              1.0   \n",
       "3        Male          Yes   67       Yes         Lawyer              0.0   \n",
       "4      Female          Yes   40       Yes  Entertainment              1.0   \n",
       "...       ...          ...  ...       ...            ...              ...   \n",
       "10690    Male           No   29        No     Healthcare              9.0   \n",
       "10691  Female           No   35       Yes         Doctor              1.0   \n",
       "10692  Female           No   53       Yes  Entertainment              1.0   \n",
       "10693    Male          Yes   47       Yes      Executive              1.0   \n",
       "10694  Female           No   43       Yes     Healthcare              9.0   \n",
       "\n",
       "      Spending_Score  Family_Size  Var_1 Segmentation  \n",
       "0                Low          4.0  Cat_4            D  \n",
       "1            Average          3.0  Cat_4            A  \n",
       "2                Low          1.0  Cat_6            B  \n",
       "3               High          2.0  Cat_6            B  \n",
       "4               High          6.0  Cat_6            A  \n",
       "...              ...          ...    ...          ...  \n",
       "10690            Low          4.0  Cat_6            B  \n",
       "10691            Low          1.0  Cat_6            A  \n",
       "10692            Low          2.0  Cat_6            C  \n",
       "10693           High          5.0  Cat_4            C  \n",
       "10694            Low          3.0  Cat_7            A  \n",
       "\n",
       "[10228 rows x 10 columns]"
      ]
     },
     "execution_count": 802,
     "metadata": {},
     "output_type": "execute_result"
    }
   ],
   "source": [
    "df"
   ]
  },
  {
   "cell_type": "markdown",
   "id": "368eac77",
   "metadata": {},
   "source": [
    "### MODELO DE MACHINE LEARNING"
   ]
  },
  {
   "cell_type": "markdown",
   "id": "ae8e8597",
   "metadata": {},
   "source": [
    "df_ml=df.copy()\n",
    "df_ml.info()"
   ]
  },
  {
   "cell_type": "code",
   "execution_count": 827,
   "id": "4b9271d9",
   "metadata": {
    "scrolled": false
   },
   "outputs": [
    {
     "name": "stdout",
     "output_type": "stream",
     "text": [
      "<class 'pandas.core.frame.DataFrame'>\n",
      "Index: 10228 entries, 0 to 10694\n",
      "Data columns (total 10 columns):\n",
      " #   Column           Non-Null Count  Dtype  \n",
      "---  ------           --------------  -----  \n",
      " 0   Gender           10228 non-null  object \n",
      " 1   Ever_Married     10228 non-null  object \n",
      " 2   Age              10228 non-null  int64  \n",
      " 3   Graduated        10228 non-null  object \n",
      " 4   Profession       10228 non-null  object \n",
      " 5   Work_Experience  10228 non-null  float64\n",
      " 6   Spending_Score   10228 non-null  object \n",
      " 7   Family_Size      10228 non-null  float64\n",
      " 8   Var_1            10228 non-null  object \n",
      " 9   Segmentation     10228 non-null  object \n",
      "dtypes: float64(2), int64(1), object(7)\n",
      "memory usage: 879.0+ KB\n"
     ]
    }
   ],
   "source": [
    "df_ml=df.copy() \n",
    "df_ml.info()"
   ]
  },
  {
   "cell_type": "markdown",
   "id": "c9abbacf",
   "metadata": {},
   "source": [
    "### PREPARACIÓN DE LOS DATOS PARA LA MODELIZACIÓN"
   ]
  },
  {
   "cell_type": "code",
   "execution_count": 829,
   "id": "a4cca6cf",
   "metadata": {},
   "outputs": [],
   "source": [
    "x = df_ml.drop(columns='Segmentation')\n",
    "y = df_ml['Segmentation']"
   ]
  },
  {
   "cell_type": "code",
   "execution_count": 830,
   "id": "74e13eff",
   "metadata": {},
   "outputs": [
    {
     "data": {
      "text/html": [
       "<div>\n",
       "<style scoped>\n",
       "    .dataframe tbody tr th:only-of-type {\n",
       "        vertical-align: middle;\n",
       "    }\n",
       "\n",
       "    .dataframe tbody tr th {\n",
       "        vertical-align: top;\n",
       "    }\n",
       "\n",
       "    .dataframe thead th {\n",
       "        text-align: right;\n",
       "    }\n",
       "</style>\n",
       "<table border=\"1\" class=\"dataframe\">\n",
       "  <thead>\n",
       "    <tr style=\"text-align: right;\">\n",
       "      <th></th>\n",
       "      <th>Gender</th>\n",
       "      <th>Ever_Married</th>\n",
       "      <th>Age</th>\n",
       "      <th>Graduated</th>\n",
       "      <th>Profession</th>\n",
       "      <th>Work_Experience</th>\n",
       "      <th>Spending_Score</th>\n",
       "      <th>Family_Size</th>\n",
       "      <th>Var_1</th>\n",
       "    </tr>\n",
       "  </thead>\n",
       "  <tbody>\n",
       "    <tr>\n",
       "      <th>0</th>\n",
       "      <td>Male</td>\n",
       "      <td>No</td>\n",
       "      <td>22</td>\n",
       "      <td>No</td>\n",
       "      <td>Healthcare</td>\n",
       "      <td>1.0</td>\n",
       "      <td>Low</td>\n",
       "      <td>4.0</td>\n",
       "      <td>Cat_4</td>\n",
       "    </tr>\n",
       "    <tr>\n",
       "      <th>1</th>\n",
       "      <td>Female</td>\n",
       "      <td>Yes</td>\n",
       "      <td>38</td>\n",
       "      <td>Yes</td>\n",
       "      <td>Engineer</td>\n",
       "      <td>1.0</td>\n",
       "      <td>Average</td>\n",
       "      <td>3.0</td>\n",
       "      <td>Cat_4</td>\n",
       "    </tr>\n",
       "    <tr>\n",
       "      <th>2</th>\n",
       "      <td>Female</td>\n",
       "      <td>Yes</td>\n",
       "      <td>67</td>\n",
       "      <td>Yes</td>\n",
       "      <td>Engineer</td>\n",
       "      <td>1.0</td>\n",
       "      <td>Low</td>\n",
       "      <td>1.0</td>\n",
       "      <td>Cat_6</td>\n",
       "    </tr>\n",
       "    <tr>\n",
       "      <th>3</th>\n",
       "      <td>Male</td>\n",
       "      <td>Yes</td>\n",
       "      <td>67</td>\n",
       "      <td>Yes</td>\n",
       "      <td>Lawyer</td>\n",
       "      <td>0.0</td>\n",
       "      <td>High</td>\n",
       "      <td>2.0</td>\n",
       "      <td>Cat_6</td>\n",
       "    </tr>\n",
       "    <tr>\n",
       "      <th>4</th>\n",
       "      <td>Female</td>\n",
       "      <td>Yes</td>\n",
       "      <td>40</td>\n",
       "      <td>Yes</td>\n",
       "      <td>Entertainment</td>\n",
       "      <td>1.0</td>\n",
       "      <td>High</td>\n",
       "      <td>6.0</td>\n",
       "      <td>Cat_6</td>\n",
       "    </tr>\n",
       "    <tr>\n",
       "      <th>...</th>\n",
       "      <td>...</td>\n",
       "      <td>...</td>\n",
       "      <td>...</td>\n",
       "      <td>...</td>\n",
       "      <td>...</td>\n",
       "      <td>...</td>\n",
       "      <td>...</td>\n",
       "      <td>...</td>\n",
       "      <td>...</td>\n",
       "    </tr>\n",
       "    <tr>\n",
       "      <th>10690</th>\n",
       "      <td>Male</td>\n",
       "      <td>No</td>\n",
       "      <td>29</td>\n",
       "      <td>No</td>\n",
       "      <td>Healthcare</td>\n",
       "      <td>9.0</td>\n",
       "      <td>Low</td>\n",
       "      <td>4.0</td>\n",
       "      <td>Cat_6</td>\n",
       "    </tr>\n",
       "    <tr>\n",
       "      <th>10691</th>\n",
       "      <td>Female</td>\n",
       "      <td>No</td>\n",
       "      <td>35</td>\n",
       "      <td>Yes</td>\n",
       "      <td>Doctor</td>\n",
       "      <td>1.0</td>\n",
       "      <td>Low</td>\n",
       "      <td>1.0</td>\n",
       "      <td>Cat_6</td>\n",
       "    </tr>\n",
       "    <tr>\n",
       "      <th>10692</th>\n",
       "      <td>Female</td>\n",
       "      <td>No</td>\n",
       "      <td>53</td>\n",
       "      <td>Yes</td>\n",
       "      <td>Entertainment</td>\n",
       "      <td>1.0</td>\n",
       "      <td>Low</td>\n",
       "      <td>2.0</td>\n",
       "      <td>Cat_6</td>\n",
       "    </tr>\n",
       "    <tr>\n",
       "      <th>10693</th>\n",
       "      <td>Male</td>\n",
       "      <td>Yes</td>\n",
       "      <td>47</td>\n",
       "      <td>Yes</td>\n",
       "      <td>Executive</td>\n",
       "      <td>1.0</td>\n",
       "      <td>High</td>\n",
       "      <td>5.0</td>\n",
       "      <td>Cat_4</td>\n",
       "    </tr>\n",
       "    <tr>\n",
       "      <th>10694</th>\n",
       "      <td>Female</td>\n",
       "      <td>No</td>\n",
       "      <td>43</td>\n",
       "      <td>Yes</td>\n",
       "      <td>Healthcare</td>\n",
       "      <td>9.0</td>\n",
       "      <td>Low</td>\n",
       "      <td>3.0</td>\n",
       "      <td>Cat_7</td>\n",
       "    </tr>\n",
       "  </tbody>\n",
       "</table>\n",
       "<p>10228 rows × 9 columns</p>\n",
       "</div>"
      ],
      "text/plain": [
       "       Gender Ever_Married  Age Graduated     Profession  Work_Experience  \\\n",
       "0        Male           No   22        No     Healthcare              1.0   \n",
       "1      Female          Yes   38       Yes       Engineer              1.0   \n",
       "2      Female          Yes   67       Yes       Engineer              1.0   \n",
       "3        Male          Yes   67       Yes         Lawyer              0.0   \n",
       "4      Female          Yes   40       Yes  Entertainment              1.0   \n",
       "...       ...          ...  ...       ...            ...              ...   \n",
       "10690    Male           No   29        No     Healthcare              9.0   \n",
       "10691  Female           No   35       Yes         Doctor              1.0   \n",
       "10692  Female           No   53       Yes  Entertainment              1.0   \n",
       "10693    Male          Yes   47       Yes      Executive              1.0   \n",
       "10694  Female           No   43       Yes     Healthcare              9.0   \n",
       "\n",
       "      Spending_Score  Family_Size  Var_1  \n",
       "0                Low          4.0  Cat_4  \n",
       "1            Average          3.0  Cat_4  \n",
       "2                Low          1.0  Cat_6  \n",
       "3               High          2.0  Cat_6  \n",
       "4               High          6.0  Cat_6  \n",
       "...              ...          ...    ...  \n",
       "10690            Low          4.0  Cat_6  \n",
       "10691            Low          1.0  Cat_6  \n",
       "10692            Low          2.0  Cat_6  \n",
       "10693           High          5.0  Cat_4  \n",
       "10694            Low          3.0  Cat_7  \n",
       "\n",
       "[10228 rows x 9 columns]"
      ]
     },
     "execution_count": 830,
     "metadata": {},
     "output_type": "execute_result"
    }
   ],
   "source": [
    "x\n"
   ]
  },
  {
   "cell_type": "code",
   "execution_count": 865,
   "id": "f966715b",
   "metadata": {},
   "outputs": [],
   "source": [
    "#### Transformar todas las variables categóricas a númericas"
   ]
  },
  {
   "cell_type": "code",
   "execution_count": 831,
   "id": "153d3111",
   "metadata": {},
   "outputs": [],
   "source": [
    "from sklearn.preprocessing import OneHotEncoder\n",
    "\n",
    "#Categóricas\n",
    "cat = x.select_dtypes('O')\n",
    "\n",
    "#Instanciamos\n",
    "ohe = OneHotEncoder(sparse = False)\n",
    "\n",
    "#Entrenamos\n",
    "ohe.fit(cat)\n",
    "\n",
    "#Aplicamos\n",
    "cat_ohe = ohe.transform(cat)\n",
    "\n",
    "#Ponemos los nombres\n",
    "cat_ohe = pd.DataFrame(cat_ohe, columns = ohe.get_feature_names_out(input_features = cat.columns)).reset_index(drop = True)"
   ]
  },
  {
   "cell_type": "code",
   "execution_count": 832,
   "id": "4c894e65",
   "metadata": {},
   "outputs": [
    {
     "data": {
      "text/plain": [
       "Index(['Gender_Female', 'Gender_Male', 'Ever_Married_No', 'Ever_Married_Yes',\n",
       "       'Graduated_No', 'Graduated_Yes', 'Profession_Artist',\n",
       "       'Profession_Doctor', 'Profession_Engineer', 'Profession_Entertainment',\n",
       "       'Profession_Executive', 'Profession_Healthcare', 'Profession_Homemaker',\n",
       "       'Profession_Lawyer', 'Profession_Marketing', 'Spending_Score_Average',\n",
       "       'Spending_Score_High', 'Spending_Score_Low', 'Var_1_Cat_1',\n",
       "       'Var_1_Cat_2', 'Var_1_Cat_3', 'Var_1_Cat_4', 'Var_1_Cat_5',\n",
       "       'Var_1_Cat_6', 'Var_1_Cat_7'],\n",
       "      dtype='object')"
      ]
     },
     "execution_count": 832,
     "metadata": {},
     "output_type": "execute_result"
    }
   ],
   "source": [
    "cat_ohe.columns"
   ]
  },
  {
   "cell_type": "code",
   "execution_count": 834,
   "id": "32285eca",
   "metadata": {},
   "outputs": [],
   "source": [
    "num = x.select_dtypes('number').reset_index(drop = True)"
   ]
  },
  {
   "cell_type": "code",
   "execution_count": 835,
   "id": "eeb326ca",
   "metadata": {},
   "outputs": [],
   "source": [
    "x_ = pd.concat([cat_ohe,num], axis = 1)\n"
   ]
  },
  {
   "cell_type": "code",
   "execution_count": 837,
   "id": "394e0235",
   "metadata": {},
   "outputs": [
    {
     "name": "stdout",
     "output_type": "stream",
     "text": [
      "<class 'pandas.core.frame.DataFrame'>\n",
      "RangeIndex: 10228 entries, 0 to 10227\n",
      "Data columns (total 28 columns):\n",
      " #   Column                    Non-Null Count  Dtype  \n",
      "---  ------                    --------------  -----  \n",
      " 0   Gender_Female             10228 non-null  float64\n",
      " 1   Gender_Male               10228 non-null  float64\n",
      " 2   Ever_Married_No           10228 non-null  float64\n",
      " 3   Ever_Married_Yes          10228 non-null  float64\n",
      " 4   Graduated_No              10228 non-null  float64\n",
      " 5   Graduated_Yes             10228 non-null  float64\n",
      " 6   Profession_Artist         10228 non-null  float64\n",
      " 7   Profession_Doctor         10228 non-null  float64\n",
      " 8   Profession_Engineer       10228 non-null  float64\n",
      " 9   Profession_Entertainment  10228 non-null  float64\n",
      " 10  Profession_Executive      10228 non-null  float64\n",
      " 11  Profession_Healthcare     10228 non-null  float64\n",
      " 12  Profession_Homemaker      10228 non-null  float64\n",
      " 13  Profession_Lawyer         10228 non-null  float64\n",
      " 14  Profession_Marketing      10228 non-null  float64\n",
      " 15  Spending_Score_Average    10228 non-null  float64\n",
      " 16  Spending_Score_High       10228 non-null  float64\n",
      " 17  Spending_Score_Low        10228 non-null  float64\n",
      " 18  Var_1_Cat_1               10228 non-null  float64\n",
      " 19  Var_1_Cat_2               10228 non-null  float64\n",
      " 20  Var_1_Cat_3               10228 non-null  float64\n",
      " 21  Var_1_Cat_4               10228 non-null  float64\n",
      " 22  Var_1_Cat_5               10228 non-null  float64\n",
      " 23  Var_1_Cat_6               10228 non-null  float64\n",
      " 24  Var_1_Cat_7               10228 non-null  float64\n",
      " 25  Age                       10228 non-null  int64  \n",
      " 26  Work_Experience           10228 non-null  float64\n",
      " 27  Family_Size               10228 non-null  float64\n",
      "dtypes: float64(27), int64(1)\n",
      "memory usage: 2.2 MB\n"
     ]
    },
    {
     "data": {
      "text/plain": [
       "0        D\n",
       "1        A\n",
       "2        B\n",
       "3        B\n",
       "4        A\n",
       "        ..\n",
       "10690    B\n",
       "10691    A\n",
       "10692    C\n",
       "10693    C\n",
       "10694    A\n",
       "Name: Segmentation, Length: 10228, dtype: object"
      ]
     },
     "execution_count": 837,
     "metadata": {},
     "output_type": "execute_result"
    }
   ],
   "source": [
    "x_.info()\n",
    "y"
   ]
  },
  {
   "cell_type": "code",
   "execution_count": 846,
   "id": "6a2e225e",
   "metadata": {
    "scrolled": true
   },
   "outputs": [
    {
     "data": {
      "text/html": [
       "<div>\n",
       "<style scoped>\n",
       "    .dataframe tbody tr th:only-of-type {\n",
       "        vertical-align: middle;\n",
       "    }\n",
       "\n",
       "    .dataframe tbody tr th {\n",
       "        vertical-align: top;\n",
       "    }\n",
       "\n",
       "    .dataframe thead th {\n",
       "        text-align: right;\n",
       "    }\n",
       "</style>\n",
       "<table border=\"1\" class=\"dataframe\">\n",
       "  <thead>\n",
       "    <tr style=\"text-align: right;\">\n",
       "      <th></th>\n",
       "      <th>Gender_Female</th>\n",
       "      <th>Gender_Male</th>\n",
       "      <th>Ever_Married_No</th>\n",
       "      <th>Ever_Married_Yes</th>\n",
       "      <th>Graduated_No</th>\n",
       "      <th>Graduated_Yes</th>\n",
       "      <th>Profession_Artist</th>\n",
       "      <th>Profession_Doctor</th>\n",
       "      <th>Profession_Engineer</th>\n",
       "      <th>Profession_Entertainment</th>\n",
       "      <th>...</th>\n",
       "      <th>Var_1_Cat_1</th>\n",
       "      <th>Var_1_Cat_2</th>\n",
       "      <th>Var_1_Cat_3</th>\n",
       "      <th>Var_1_Cat_4</th>\n",
       "      <th>Var_1_Cat_5</th>\n",
       "      <th>Var_1_Cat_6</th>\n",
       "      <th>Var_1_Cat_7</th>\n",
       "      <th>Age</th>\n",
       "      <th>Work_Experience</th>\n",
       "      <th>Family_Size</th>\n",
       "    </tr>\n",
       "  </thead>\n",
       "  <tbody>\n",
       "    <tr>\n",
       "      <th>0</th>\n",
       "      <td>0.0</td>\n",
       "      <td>1.0</td>\n",
       "      <td>1.0</td>\n",
       "      <td>0.0</td>\n",
       "      <td>1.0</td>\n",
       "      <td>0.0</td>\n",
       "      <td>0.0</td>\n",
       "      <td>0.0</td>\n",
       "      <td>0.0</td>\n",
       "      <td>0.0</td>\n",
       "      <td>...</td>\n",
       "      <td>0.0</td>\n",
       "      <td>0.0</td>\n",
       "      <td>0.0</td>\n",
       "      <td>1.0</td>\n",
       "      <td>0.0</td>\n",
       "      <td>0.0</td>\n",
       "      <td>0.0</td>\n",
       "      <td>22</td>\n",
       "      <td>1.0</td>\n",
       "      <td>4.0</td>\n",
       "    </tr>\n",
       "    <tr>\n",
       "      <th>1</th>\n",
       "      <td>1.0</td>\n",
       "      <td>0.0</td>\n",
       "      <td>0.0</td>\n",
       "      <td>1.0</td>\n",
       "      <td>0.0</td>\n",
       "      <td>1.0</td>\n",
       "      <td>0.0</td>\n",
       "      <td>0.0</td>\n",
       "      <td>1.0</td>\n",
       "      <td>0.0</td>\n",
       "      <td>...</td>\n",
       "      <td>0.0</td>\n",
       "      <td>0.0</td>\n",
       "      <td>0.0</td>\n",
       "      <td>1.0</td>\n",
       "      <td>0.0</td>\n",
       "      <td>0.0</td>\n",
       "      <td>0.0</td>\n",
       "      <td>38</td>\n",
       "      <td>1.0</td>\n",
       "      <td>3.0</td>\n",
       "    </tr>\n",
       "    <tr>\n",
       "      <th>2</th>\n",
       "      <td>1.0</td>\n",
       "      <td>0.0</td>\n",
       "      <td>0.0</td>\n",
       "      <td>1.0</td>\n",
       "      <td>0.0</td>\n",
       "      <td>1.0</td>\n",
       "      <td>0.0</td>\n",
       "      <td>0.0</td>\n",
       "      <td>1.0</td>\n",
       "      <td>0.0</td>\n",
       "      <td>...</td>\n",
       "      <td>0.0</td>\n",
       "      <td>0.0</td>\n",
       "      <td>0.0</td>\n",
       "      <td>0.0</td>\n",
       "      <td>0.0</td>\n",
       "      <td>1.0</td>\n",
       "      <td>0.0</td>\n",
       "      <td>67</td>\n",
       "      <td>1.0</td>\n",
       "      <td>1.0</td>\n",
       "    </tr>\n",
       "    <tr>\n",
       "      <th>3</th>\n",
       "      <td>0.0</td>\n",
       "      <td>1.0</td>\n",
       "      <td>0.0</td>\n",
       "      <td>1.0</td>\n",
       "      <td>0.0</td>\n",
       "      <td>1.0</td>\n",
       "      <td>0.0</td>\n",
       "      <td>0.0</td>\n",
       "      <td>0.0</td>\n",
       "      <td>0.0</td>\n",
       "      <td>...</td>\n",
       "      <td>0.0</td>\n",
       "      <td>0.0</td>\n",
       "      <td>0.0</td>\n",
       "      <td>0.0</td>\n",
       "      <td>0.0</td>\n",
       "      <td>1.0</td>\n",
       "      <td>0.0</td>\n",
       "      <td>67</td>\n",
       "      <td>0.0</td>\n",
       "      <td>2.0</td>\n",
       "    </tr>\n",
       "    <tr>\n",
       "      <th>4</th>\n",
       "      <td>1.0</td>\n",
       "      <td>0.0</td>\n",
       "      <td>0.0</td>\n",
       "      <td>1.0</td>\n",
       "      <td>0.0</td>\n",
       "      <td>1.0</td>\n",
       "      <td>0.0</td>\n",
       "      <td>0.0</td>\n",
       "      <td>0.0</td>\n",
       "      <td>1.0</td>\n",
       "      <td>...</td>\n",
       "      <td>0.0</td>\n",
       "      <td>0.0</td>\n",
       "      <td>0.0</td>\n",
       "      <td>0.0</td>\n",
       "      <td>0.0</td>\n",
       "      <td>1.0</td>\n",
       "      <td>0.0</td>\n",
       "      <td>40</td>\n",
       "      <td>1.0</td>\n",
       "      <td>6.0</td>\n",
       "    </tr>\n",
       "    <tr>\n",
       "      <th>...</th>\n",
       "      <td>...</td>\n",
       "      <td>...</td>\n",
       "      <td>...</td>\n",
       "      <td>...</td>\n",
       "      <td>...</td>\n",
       "      <td>...</td>\n",
       "      <td>...</td>\n",
       "      <td>...</td>\n",
       "      <td>...</td>\n",
       "      <td>...</td>\n",
       "      <td>...</td>\n",
       "      <td>...</td>\n",
       "      <td>...</td>\n",
       "      <td>...</td>\n",
       "      <td>...</td>\n",
       "      <td>...</td>\n",
       "      <td>...</td>\n",
       "      <td>...</td>\n",
       "      <td>...</td>\n",
       "      <td>...</td>\n",
       "      <td>...</td>\n",
       "    </tr>\n",
       "    <tr>\n",
       "      <th>10223</th>\n",
       "      <td>0.0</td>\n",
       "      <td>1.0</td>\n",
       "      <td>1.0</td>\n",
       "      <td>0.0</td>\n",
       "      <td>1.0</td>\n",
       "      <td>0.0</td>\n",
       "      <td>0.0</td>\n",
       "      <td>0.0</td>\n",
       "      <td>0.0</td>\n",
       "      <td>0.0</td>\n",
       "      <td>...</td>\n",
       "      <td>0.0</td>\n",
       "      <td>0.0</td>\n",
       "      <td>0.0</td>\n",
       "      <td>0.0</td>\n",
       "      <td>0.0</td>\n",
       "      <td>1.0</td>\n",
       "      <td>0.0</td>\n",
       "      <td>29</td>\n",
       "      <td>9.0</td>\n",
       "      <td>4.0</td>\n",
       "    </tr>\n",
       "    <tr>\n",
       "      <th>10224</th>\n",
       "      <td>1.0</td>\n",
       "      <td>0.0</td>\n",
       "      <td>1.0</td>\n",
       "      <td>0.0</td>\n",
       "      <td>0.0</td>\n",
       "      <td>1.0</td>\n",
       "      <td>0.0</td>\n",
       "      <td>1.0</td>\n",
       "      <td>0.0</td>\n",
       "      <td>0.0</td>\n",
       "      <td>...</td>\n",
       "      <td>0.0</td>\n",
       "      <td>0.0</td>\n",
       "      <td>0.0</td>\n",
       "      <td>0.0</td>\n",
       "      <td>0.0</td>\n",
       "      <td>1.0</td>\n",
       "      <td>0.0</td>\n",
       "      <td>35</td>\n",
       "      <td>1.0</td>\n",
       "      <td>1.0</td>\n",
       "    </tr>\n",
       "    <tr>\n",
       "      <th>10225</th>\n",
       "      <td>1.0</td>\n",
       "      <td>0.0</td>\n",
       "      <td>1.0</td>\n",
       "      <td>0.0</td>\n",
       "      <td>0.0</td>\n",
       "      <td>1.0</td>\n",
       "      <td>0.0</td>\n",
       "      <td>0.0</td>\n",
       "      <td>0.0</td>\n",
       "      <td>1.0</td>\n",
       "      <td>...</td>\n",
       "      <td>0.0</td>\n",
       "      <td>0.0</td>\n",
       "      <td>0.0</td>\n",
       "      <td>0.0</td>\n",
       "      <td>0.0</td>\n",
       "      <td>1.0</td>\n",
       "      <td>0.0</td>\n",
       "      <td>53</td>\n",
       "      <td>1.0</td>\n",
       "      <td>2.0</td>\n",
       "    </tr>\n",
       "    <tr>\n",
       "      <th>10226</th>\n",
       "      <td>0.0</td>\n",
       "      <td>1.0</td>\n",
       "      <td>0.0</td>\n",
       "      <td>1.0</td>\n",
       "      <td>0.0</td>\n",
       "      <td>1.0</td>\n",
       "      <td>0.0</td>\n",
       "      <td>0.0</td>\n",
       "      <td>0.0</td>\n",
       "      <td>0.0</td>\n",
       "      <td>...</td>\n",
       "      <td>0.0</td>\n",
       "      <td>0.0</td>\n",
       "      <td>0.0</td>\n",
       "      <td>1.0</td>\n",
       "      <td>0.0</td>\n",
       "      <td>0.0</td>\n",
       "      <td>0.0</td>\n",
       "      <td>47</td>\n",
       "      <td>1.0</td>\n",
       "      <td>5.0</td>\n",
       "    </tr>\n",
       "    <tr>\n",
       "      <th>10227</th>\n",
       "      <td>1.0</td>\n",
       "      <td>0.0</td>\n",
       "      <td>1.0</td>\n",
       "      <td>0.0</td>\n",
       "      <td>0.0</td>\n",
       "      <td>1.0</td>\n",
       "      <td>0.0</td>\n",
       "      <td>0.0</td>\n",
       "      <td>0.0</td>\n",
       "      <td>0.0</td>\n",
       "      <td>...</td>\n",
       "      <td>0.0</td>\n",
       "      <td>0.0</td>\n",
       "      <td>0.0</td>\n",
       "      <td>0.0</td>\n",
       "      <td>0.0</td>\n",
       "      <td>0.0</td>\n",
       "      <td>1.0</td>\n",
       "      <td>43</td>\n",
       "      <td>9.0</td>\n",
       "      <td>3.0</td>\n",
       "    </tr>\n",
       "  </tbody>\n",
       "</table>\n",
       "<p>10228 rows × 28 columns</p>\n",
       "</div>"
      ],
      "text/plain": [
       "       Gender_Female  Gender_Male  Ever_Married_No  Ever_Married_Yes  \\\n",
       "0                0.0          1.0              1.0               0.0   \n",
       "1                1.0          0.0              0.0               1.0   \n",
       "2                1.0          0.0              0.0               1.0   \n",
       "3                0.0          1.0              0.0               1.0   \n",
       "4                1.0          0.0              0.0               1.0   \n",
       "...              ...          ...              ...               ...   \n",
       "10223            0.0          1.0              1.0               0.0   \n",
       "10224            1.0          0.0              1.0               0.0   \n",
       "10225            1.0          0.0              1.0               0.0   \n",
       "10226            0.0          1.0              0.0               1.0   \n",
       "10227            1.0          0.0              1.0               0.0   \n",
       "\n",
       "       Graduated_No  Graduated_Yes  Profession_Artist  Profession_Doctor  \\\n",
       "0               1.0            0.0                0.0                0.0   \n",
       "1               0.0            1.0                0.0                0.0   \n",
       "2               0.0            1.0                0.0                0.0   \n",
       "3               0.0            1.0                0.0                0.0   \n",
       "4               0.0            1.0                0.0                0.0   \n",
       "...             ...            ...                ...                ...   \n",
       "10223           1.0            0.0                0.0                0.0   \n",
       "10224           0.0            1.0                0.0                1.0   \n",
       "10225           0.0            1.0                0.0                0.0   \n",
       "10226           0.0            1.0                0.0                0.0   \n",
       "10227           0.0            1.0                0.0                0.0   \n",
       "\n",
       "       Profession_Engineer  Profession_Entertainment  ...  Var_1_Cat_1  \\\n",
       "0                      0.0                       0.0  ...          0.0   \n",
       "1                      1.0                       0.0  ...          0.0   \n",
       "2                      1.0                       0.0  ...          0.0   \n",
       "3                      0.0                       0.0  ...          0.0   \n",
       "4                      0.0                       1.0  ...          0.0   \n",
       "...                    ...                       ...  ...          ...   \n",
       "10223                  0.0                       0.0  ...          0.0   \n",
       "10224                  0.0                       0.0  ...          0.0   \n",
       "10225                  0.0                       1.0  ...          0.0   \n",
       "10226                  0.0                       0.0  ...          0.0   \n",
       "10227                  0.0                       0.0  ...          0.0   \n",
       "\n",
       "       Var_1_Cat_2  Var_1_Cat_3  Var_1_Cat_4  Var_1_Cat_5  Var_1_Cat_6  \\\n",
       "0              0.0          0.0          1.0          0.0          0.0   \n",
       "1              0.0          0.0          1.0          0.0          0.0   \n",
       "2              0.0          0.0          0.0          0.0          1.0   \n",
       "3              0.0          0.0          0.0          0.0          1.0   \n",
       "4              0.0          0.0          0.0          0.0          1.0   \n",
       "...            ...          ...          ...          ...          ...   \n",
       "10223          0.0          0.0          0.0          0.0          1.0   \n",
       "10224          0.0          0.0          0.0          0.0          1.0   \n",
       "10225          0.0          0.0          0.0          0.0          1.0   \n",
       "10226          0.0          0.0          1.0          0.0          0.0   \n",
       "10227          0.0          0.0          0.0          0.0          0.0   \n",
       "\n",
       "       Var_1_Cat_7  Age  Work_Experience  Family_Size  \n",
       "0              0.0   22              1.0          4.0  \n",
       "1              0.0   38              1.0          3.0  \n",
       "2              0.0   67              1.0          1.0  \n",
       "3              0.0   67              0.0          2.0  \n",
       "4              0.0   40              1.0          6.0  \n",
       "...            ...  ...              ...          ...  \n",
       "10223          0.0   29              9.0          4.0  \n",
       "10224          0.0   35              1.0          1.0  \n",
       "10225          0.0   53              1.0          2.0  \n",
       "10226          0.0   47              1.0          5.0  \n",
       "10227          1.0   43              9.0          3.0  \n",
       "\n",
       "[10228 rows x 28 columns]"
      ]
     },
     "execution_count": 846,
     "metadata": {},
     "output_type": "execute_result"
    }
   ],
   "source": [
    "x_"
   ]
  },
  {
   "cell_type": "code",
   "execution_count": 866,
   "id": "0fd99531",
   "metadata": {},
   "outputs": [],
   "source": [
    "### DISEÑO DE LA MODELIZACIÓN"
   ]
  },
  {
   "cell_type": "code",
   "execution_count": 845,
   "id": "9a4e4be6",
   "metadata": {},
   "outputs": [
    {
     "data": {
      "text/plain": [
       "array([[-0.9058569 ,  0.9058569 ,  1.18385079, ..., -1.29119242,\n",
       "        -0.44546107,  0.75375811],\n",
       "       [ 1.10392713, -1.10392713, -0.84470104, ..., -0.3333063 ,\n",
       "        -0.44546107,  0.10190743],\n",
       "       [ 1.10392713, -1.10392713, -0.84470104, ...,  1.40286229,\n",
       "        -0.44546107, -1.20179391],\n",
       "       ...,\n",
       "       [ 1.10392713, -1.10392713,  1.18385079, ...,  0.56471194,\n",
       "        -0.44546107, -0.54994324],\n",
       "       [-0.9058569 ,  0.9058569 , -0.84470104, ...,  0.20550464,\n",
       "        -0.44546107,  1.40560878],\n",
       "       [ 1.10392713, -1.10392713,  1.18385079, ..., -0.03396689,\n",
       "         2.04374242,  0.10190743]])"
      ]
     },
     "execution_count": 845,
     "metadata": {},
     "output_type": "execute_result"
    }
   ],
   "source": [
    "from sklearn.preprocessing import StandardScaler\n",
    "\n",
    "sc = StandardScaler()\n",
    "\n",
    "X = sc.fit_transform(x_)\n",
    "\n",
    "X"
   ]
  },
  {
   "cell_type": "code",
   "execution_count": 857,
   "id": "f8c137b7",
   "metadata": {},
   "outputs": [
    {
     "name": "stdout",
     "output_type": "stream",
     "text": [
      "(8182, 28) (2046, 28)\n"
     ]
    }
   ],
   "source": [
    "from sklearn.model_selection import train_test_split\n",
    "\n",
    "X_train, X_test, y_train, y_test = train_test_split(X,y, test_size = 0.20, random_state = 42)\n",
    "\n",
    "print(X_train.shape, X_test.shape)"
   ]
  },
  {
   "cell_type": "code",
   "execution_count": 867,
   "id": "7fb7462e",
   "metadata": {},
   "outputs": [],
   "source": [
    "###ENTRENAMIENTO DEL MODELO SOBRE TRAIN"
   ]
  },
  {
   "cell_type": "code",
   "execution_count": 848,
   "id": "dbdc4653",
   "metadata": {},
   "outputs": [],
   "source": [
    "from sklearn.ensemble import RandomForestClassifier\n",
    "from sklearn.model_selection import RandomizedSearchCV\n",
    "\n",
    "rc = RandomForestClassifier()\n",
    "\n",
    "\n",
    "\n",
    "param_grid = {\n",
    "    'n_estimators': [25, 50, 100, 150],\n",
    "    'max_features': ['sqrt', 'log2', None],\n",
    "    'max_depth': [3, 6, 9],\n",
    "    'max_leaf_nodes': [3, 6, 9],\n",
    "}"
   ]
  },
  {
   "cell_type": "code",
   "execution_count": 849,
   "id": "490a1fc3",
   "metadata": {},
   "outputs": [
    {
     "name": "stdout",
     "output_type": "stream",
     "text": [
      "Fitting 3 folds for each of 100 candidates, totalling 300 fits\n"
     ]
    },
    {
     "data": {
      "text/plain": [
       "{'n_estimators': 25,\n",
       " 'max_leaf_nodes': 9,\n",
       " 'max_features': 'log2',\n",
       " 'max_depth': 6}"
      ]
     },
     "execution_count": 849,
     "metadata": {},
     "output_type": "execute_result"
    }
   ],
   "source": [
    "rf_random = RandomizedSearchCV(estimator = rc, param_distributions = param_grid, n_iter = 100, cv = 3, verbose=2, random_state=42, n_jobs = -1)\n",
    "# Fit the random search model\n",
    "rf_random.fit(X_train, y_train)\n",
    "rf_random.best_params_"
   ]
  },
  {
   "cell_type": "code",
   "execution_count": 850,
   "id": "1a76b306",
   "metadata": {},
   "outputs": [
    {
     "data": {
      "text/html": [
       "<style>#sk-container-id-2 {color: black;background-color: white;}#sk-container-id-2 pre{padding: 0;}#sk-container-id-2 div.sk-toggleable {background-color: white;}#sk-container-id-2 label.sk-toggleable__label {cursor: pointer;display: block;width: 100%;margin-bottom: 0;padding: 0.3em;box-sizing: border-box;text-align: center;}#sk-container-id-2 label.sk-toggleable__label-arrow:before {content: \"▸\";float: left;margin-right: 0.25em;color: #696969;}#sk-container-id-2 label.sk-toggleable__label-arrow:hover:before {color: black;}#sk-container-id-2 div.sk-estimator:hover label.sk-toggleable__label-arrow:before {color: black;}#sk-container-id-2 div.sk-toggleable__content {max-height: 0;max-width: 0;overflow: hidden;text-align: left;background-color: #f0f8ff;}#sk-container-id-2 div.sk-toggleable__content pre {margin: 0.2em;color: black;border-radius: 0.25em;background-color: #f0f8ff;}#sk-container-id-2 input.sk-toggleable__control:checked~div.sk-toggleable__content {max-height: 200px;max-width: 100%;overflow: auto;}#sk-container-id-2 input.sk-toggleable__control:checked~label.sk-toggleable__label-arrow:before {content: \"▾\";}#sk-container-id-2 div.sk-estimator input.sk-toggleable__control:checked~label.sk-toggleable__label {background-color: #d4ebff;}#sk-container-id-2 div.sk-label input.sk-toggleable__control:checked~label.sk-toggleable__label {background-color: #d4ebff;}#sk-container-id-2 input.sk-hidden--visually {border: 0;clip: rect(1px 1px 1px 1px);clip: rect(1px, 1px, 1px, 1px);height: 1px;margin: -1px;overflow: hidden;padding: 0;position: absolute;width: 1px;}#sk-container-id-2 div.sk-estimator {font-family: monospace;background-color: #f0f8ff;border: 1px dotted black;border-radius: 0.25em;box-sizing: border-box;margin-bottom: 0.5em;}#sk-container-id-2 div.sk-estimator:hover {background-color: #d4ebff;}#sk-container-id-2 div.sk-parallel-item::after {content: \"\";width: 100%;border-bottom: 1px solid gray;flex-grow: 1;}#sk-container-id-2 div.sk-label:hover label.sk-toggleable__label {background-color: #d4ebff;}#sk-container-id-2 div.sk-serial::before {content: \"\";position: absolute;border-left: 1px solid gray;box-sizing: border-box;top: 0;bottom: 0;left: 50%;z-index: 0;}#sk-container-id-2 div.sk-serial {display: flex;flex-direction: column;align-items: center;background-color: white;padding-right: 0.2em;padding-left: 0.2em;position: relative;}#sk-container-id-2 div.sk-item {position: relative;z-index: 1;}#sk-container-id-2 div.sk-parallel {display: flex;align-items: stretch;justify-content: center;background-color: white;position: relative;}#sk-container-id-2 div.sk-item::before, #sk-container-id-2 div.sk-parallel-item::before {content: \"\";position: absolute;border-left: 1px solid gray;box-sizing: border-box;top: 0;bottom: 0;left: 50%;z-index: -1;}#sk-container-id-2 div.sk-parallel-item {display: flex;flex-direction: column;z-index: 1;position: relative;background-color: white;}#sk-container-id-2 div.sk-parallel-item:first-child::after {align-self: flex-end;width: 50%;}#sk-container-id-2 div.sk-parallel-item:last-child::after {align-self: flex-start;width: 50%;}#sk-container-id-2 div.sk-parallel-item:only-child::after {width: 0;}#sk-container-id-2 div.sk-dashed-wrapped {border: 1px dashed gray;margin: 0 0.4em 0.5em 0.4em;box-sizing: border-box;padding-bottom: 0.4em;background-color: white;}#sk-container-id-2 div.sk-label label {font-family: monospace;font-weight: bold;display: inline-block;line-height: 1.2em;}#sk-container-id-2 div.sk-label-container {text-align: center;}#sk-container-id-2 div.sk-container {/* jupyter's `normalize.less` sets `[hidden] { display: none; }` but bootstrap.min.css set `[hidden] { display: none !important; }` so we also need the `!important` here to be able to override the default hidden behavior on the sphinx rendered scikit-learn.org. See: https://github.com/scikit-learn/scikit-learn/issues/21755 */display: inline-block !important;position: relative;}#sk-container-id-2 div.sk-text-repr-fallback {display: none;}</style><div id=\"sk-container-id-2\" class=\"sk-top-container\"><div class=\"sk-text-repr-fallback\"><pre>RandomForestClassifier(max_depth=6, max_features=&#x27;log2&#x27;, max_leaf_nodes=9,\n",
       "                       n_estimators=25, random_state=1)</pre><b>In a Jupyter environment, please rerun this cell to show the HTML representation or trust the notebook. <br />On GitHub, the HTML representation is unable to render, please try loading this page with nbviewer.org.</b></div><div class=\"sk-container\" hidden><div class=\"sk-item\"><div class=\"sk-estimator sk-toggleable\"><input class=\"sk-toggleable__control sk-hidden--visually\" id=\"sk-estimator-id-2\" type=\"checkbox\" checked><label for=\"sk-estimator-id-2\" class=\"sk-toggleable__label sk-toggleable__label-arrow\">RandomForestClassifier</label><div class=\"sk-toggleable__content\"><pre>RandomForestClassifier(max_depth=6, max_features=&#x27;log2&#x27;, max_leaf_nodes=9,\n",
       "                       n_estimators=25, random_state=1)</pre></div></div></div></div></div>"
      ],
      "text/plain": [
       "RandomForestClassifier(max_depth=6, max_features='log2', max_leaf_nodes=9,\n",
       "                       n_estimators=25, random_state=1)"
      ]
     },
     "execution_count": 850,
     "metadata": {},
     "output_type": "execute_result"
    }
   ],
   "source": [
    "rc1 = RandomForestClassifier(n_estimators = 25, random_state = 1, \n",
    "                             max_leaf_nodes = 9,max_features= 'log2',max_depth = 6 )\n",
    "rc1.fit(X_train, y_train)   "
   ]
  },
  {
   "cell_type": "code",
   "execution_count": 851,
   "id": "57e95bde",
   "metadata": {
    "scrolled": true
   },
   "outputs": [
    {
     "name": "stdout",
     "output_type": "stream",
     "text": [
      "              precision    recall  f1-score   support\n",
      "\n",
      "           A       0.46      0.38      0.42       995\n",
      "           B       0.07      0.39      0.12       119\n",
      "           C       0.60      0.44      0.51       980\n",
      "           D       0.64      0.55      0.59       975\n",
      "\n",
      "    accuracy                           0.45      3069\n",
      "   macro avg       0.44      0.44      0.41      3069\n",
      "weighted avg       0.55      0.45      0.49      3069\n",
      "\n"
     ]
    }
   ],
   "source": [
    "from sklearn.metrics import classification_report\n",
    "y_pred_grid = rc1.predict(X_test)\n",
    "print(classification_report(y_pred_grid, y_test))"
   ]
  },
  {
   "cell_type": "code",
   "execution_count": 852,
   "id": "87b94012",
   "metadata": {},
   "outputs": [
    {
     "name": "stdout",
     "output_type": "stream",
     "text": [
      "0.454871293580971\n",
      "0.454871293580971\n"
     ]
    }
   ],
   "source": [
    "from sklearn.metrics import precision_score, recall_score\n",
    "print(precision_score(y_pred_grid, y_test,average='micro',pos_label='positive'))\n",
    "print(recall_score(y_pred_grid, y_test,average='micro',pos_label='positive'))"
   ]
  },
  {
   "cell_type": "code",
   "execution_count": 853,
   "id": "70533487",
   "metadata": {},
   "outputs": [
    {
     "name": "stdout",
     "output_type": "stream",
     "text": [
      "Fitting 5 folds for each of 25 candidates, totalling 125 fits\n",
      "[CV 1/5] END ........C=0.1, gamma=1, kernel=rbf;, score=0.390 total time=   3.5s\n",
      "[CV 2/5] END ........C=0.1, gamma=1, kernel=rbf;, score=0.413 total time=   3.3s\n",
      "[CV 3/5] END ........C=0.1, gamma=1, kernel=rbf;, score=0.362 total time=   3.4s\n",
      "[CV 4/5] END ........C=0.1, gamma=1, kernel=rbf;, score=0.389 total time=   3.3s\n",
      "[CV 5/5] END ........C=0.1, gamma=1, kernel=rbf;, score=0.386 total time=   3.3s\n",
      "[CV 1/5] END ......C=0.1, gamma=0.1, kernel=rbf;, score=0.448 total time=   2.9s\n",
      "[CV 2/5] END ......C=0.1, gamma=0.1, kernel=rbf;, score=0.459 total time=   3.0s\n",
      "[CV 3/5] END ......C=0.1, gamma=0.1, kernel=rbf;, score=0.412 total time=   2.9s\n",
      "[CV 4/5] END ......C=0.1, gamma=0.1, kernel=rbf;, score=0.439 total time=   2.9s\n",
      "[CV 5/5] END ......C=0.1, gamma=0.1, kernel=rbf;, score=0.456 total time=   3.0s\n",
      "[CV 1/5] END .....C=0.1, gamma=0.01, kernel=rbf;, score=0.455 total time=   2.8s\n",
      "[CV 2/5] END .....C=0.1, gamma=0.01, kernel=rbf;, score=0.464 total time=   2.8s\n",
      "[CV 3/5] END .....C=0.1, gamma=0.01, kernel=rbf;, score=0.422 total time=   2.8s\n",
      "[CV 4/5] END .....C=0.1, gamma=0.01, kernel=rbf;, score=0.454 total time=   2.8s\n",
      "[CV 5/5] END .....C=0.1, gamma=0.01, kernel=rbf;, score=0.459 total time=   2.8s\n",
      "[CV 1/5] END ....C=0.1, gamma=0.001, kernel=rbf;, score=0.455 total time=   3.2s\n",
      "[CV 2/5] END ....C=0.1, gamma=0.001, kernel=rbf;, score=0.457 total time=   3.2s\n",
      "[CV 3/5] END ....C=0.1, gamma=0.001, kernel=rbf;, score=0.429 total time=   3.2s\n",
      "[CV 4/5] END ....C=0.1, gamma=0.001, kernel=rbf;, score=0.459 total time=   3.1s\n",
      "[CV 5/5] END ....C=0.1, gamma=0.001, kernel=rbf;, score=0.472 total time=   3.2s\n",
      "[CV 1/5] END ...C=0.1, gamma=0.0001, kernel=rbf;, score=0.279 total time=   3.3s\n",
      "[CV 2/5] END ...C=0.1, gamma=0.0001, kernel=rbf;, score=0.279 total time=   3.3s\n",
      "[CV 3/5] END ...C=0.1, gamma=0.0001, kernel=rbf;, score=0.279 total time=   3.3s\n",
      "[CV 4/5] END ...C=0.1, gamma=0.0001, kernel=rbf;, score=0.279 total time=   3.3s\n",
      "[CV 5/5] END ...C=0.1, gamma=0.0001, kernel=rbf;, score=0.280 total time=   3.3s\n",
      "[CV 1/5] END ..........C=1, gamma=1, kernel=rbf;, score=0.444 total time=   3.2s\n",
      "[CV 2/5] END ..........C=1, gamma=1, kernel=rbf;, score=0.449 total time=   3.3s\n",
      "[CV 3/5] END ..........C=1, gamma=1, kernel=rbf;, score=0.409 total time=   3.2s\n",
      "[CV 4/5] END ..........C=1, gamma=1, kernel=rbf;, score=0.432 total time=   3.2s\n",
      "[CV 5/5] END ..........C=1, gamma=1, kernel=rbf;, score=0.453 total time=   3.2s\n",
      "[CV 1/5] END ........C=1, gamma=0.1, kernel=rbf;, score=0.472 total time=   2.8s\n",
      "[CV 2/5] END ........C=1, gamma=0.1, kernel=rbf;, score=0.472 total time=   2.8s\n",
      "[CV 3/5] END ........C=1, gamma=0.1, kernel=rbf;, score=0.443 total time=   2.8s\n",
      "[CV 4/5] END ........C=1, gamma=0.1, kernel=rbf;, score=0.464 total time=   2.8s\n",
      "[CV 5/5] END ........C=1, gamma=0.1, kernel=rbf;, score=0.485 total time=   2.8s\n",
      "[CV 1/5] END .......C=1, gamma=0.01, kernel=rbf;, score=0.466 total time=   2.6s\n",
      "[CV 2/5] END .......C=1, gamma=0.01, kernel=rbf;, score=0.466 total time=   2.7s\n",
      "[CV 3/5] END .......C=1, gamma=0.01, kernel=rbf;, score=0.426 total time=   2.6s\n",
      "[CV 4/5] END .......C=1, gamma=0.01, kernel=rbf;, score=0.468 total time=   2.7s\n",
      "[CV 5/5] END .......C=1, gamma=0.01, kernel=rbf;, score=0.464 total time=   2.8s\n",
      "[CV 1/5] END ......C=1, gamma=0.001, kernel=rbf;, score=0.437 total time=   2.7s\n",
      "[CV 2/5] END ......C=1, gamma=0.001, kernel=rbf;, score=0.455 total time=   2.7s\n",
      "[CV 3/5] END ......C=1, gamma=0.001, kernel=rbf;, score=0.425 total time=   2.7s\n",
      "[CV 4/5] END ......C=1, gamma=0.001, kernel=rbf;, score=0.444 total time=   2.7s\n",
      "[CV 5/5] END ......C=1, gamma=0.001, kernel=rbf;, score=0.450 total time=   2.8s\n",
      "[CV 1/5] END .....C=1, gamma=0.0001, kernel=rbf;, score=0.453 total time=   3.1s\n",
      "[CV 2/5] END .....C=1, gamma=0.0001, kernel=rbf;, score=0.462 total time=   3.1s\n",
      "[CV 3/5] END .....C=1, gamma=0.0001, kernel=rbf;, score=0.429 total time=   3.1s\n",
      "[CV 4/5] END .....C=1, gamma=0.0001, kernel=rbf;, score=0.462 total time=   3.1s\n",
      "[CV 5/5] END .....C=1, gamma=0.0001, kernel=rbf;, score=0.473 total time=   3.1s\n",
      "[CV 1/5] END .........C=10, gamma=1, kernel=rbf;, score=0.422 total time=   4.1s\n",
      "[CV 2/5] END .........C=10, gamma=1, kernel=rbf;, score=0.413 total time=   4.1s\n",
      "[CV 3/5] END .........C=10, gamma=1, kernel=rbf;, score=0.391 total time=   4.1s\n",
      "[CV 4/5] END .........C=10, gamma=1, kernel=rbf;, score=0.402 total time=   4.1s\n",
      "[CV 5/5] END .........C=10, gamma=1, kernel=rbf;, score=0.411 total time=   4.2s\n",
      "[CV 1/5] END .......C=10, gamma=0.1, kernel=rbf;, score=0.452 total time=   3.3s\n",
      "[CV 2/5] END .......C=10, gamma=0.1, kernel=rbf;, score=0.455 total time=   3.3s\n",
      "[CV 3/5] END .......C=10, gamma=0.1, kernel=rbf;, score=0.420 total time=   3.2s\n",
      "[CV 4/5] END .......C=10, gamma=0.1, kernel=rbf;, score=0.443 total time=   3.2s\n",
      "[CV 5/5] END .......C=10, gamma=0.1, kernel=rbf;, score=0.461 total time=   3.3s\n",
      "[CV 1/5] END ......C=10, gamma=0.01, kernel=rbf;, score=0.458 total time=   2.9s\n",
      "[CV 2/5] END ......C=10, gamma=0.01, kernel=rbf;, score=0.465 total time=   2.9s\n",
      "[CV 3/5] END ......C=10, gamma=0.01, kernel=rbf;, score=0.446 total time=   2.9s\n",
      "[CV 4/5] END ......C=10, gamma=0.01, kernel=rbf;, score=0.468 total time=   2.9s\n",
      "[CV 5/5] END ......C=10, gamma=0.01, kernel=rbf;, score=0.491 total time=   2.9s\n",
      "[CV 1/5] END .....C=10, gamma=0.001, kernel=rbf;, score=0.439 total time=   2.7s\n",
      "[CV 2/5] END .....C=10, gamma=0.001, kernel=rbf;, score=0.455 total time=   2.8s\n",
      "[CV 3/5] END .....C=10, gamma=0.001, kernel=rbf;, score=0.427 total time=   2.7s\n",
      "[CV 4/5] END .....C=10, gamma=0.001, kernel=rbf;, score=0.446 total time=   2.8s\n",
      "[CV 5/5] END .....C=10, gamma=0.001, kernel=rbf;, score=0.448 total time=   2.8s\n",
      "[CV 1/5] END ....C=10, gamma=0.0001, kernel=rbf;, score=0.439 total time=   2.7s\n",
      "[CV 2/5] END ....C=10, gamma=0.0001, kernel=rbf;, score=0.455 total time=   2.7s\n",
      "[CV 3/5] END ....C=10, gamma=0.0001, kernel=rbf;, score=0.425 total time=   2.8s\n",
      "[CV 4/5] END ....C=10, gamma=0.0001, kernel=rbf;, score=0.445 total time=   2.7s\n",
      "[CV 5/5] END ....C=10, gamma=0.0001, kernel=rbf;, score=0.449 total time=   2.9s\n",
      "[CV 1/5] END ........C=100, gamma=1, kernel=rbf;, score=0.400 total time=   5.4s\n",
      "[CV 2/5] END ........C=100, gamma=1, kernel=rbf;, score=0.399 total time=   5.4s\n",
      "[CV 3/5] END ........C=100, gamma=1, kernel=rbf;, score=0.381 total time=   5.3s\n",
      "[CV 4/5] END ........C=100, gamma=1, kernel=rbf;, score=0.390 total time=   5.5s\n",
      "[CV 5/5] END ........C=100, gamma=1, kernel=rbf;, score=0.407 total time=   5.7s\n",
      "[CV 1/5] END ......C=100, gamma=0.1, kernel=rbf;, score=0.431 total time=   5.5s\n",
      "[CV 2/5] END ......C=100, gamma=0.1, kernel=rbf;, score=0.439 total time=   5.5s\n",
      "[CV 3/5] END ......C=100, gamma=0.1, kernel=rbf;, score=0.402 total time=   5.4s\n",
      "[CV 4/5] END ......C=100, gamma=0.1, kernel=rbf;, score=0.421 total time=   5.2s\n",
      "[CV 5/5] END ......C=100, gamma=0.1, kernel=rbf;, score=0.423 total time=   5.3s\n",
      "[CV 1/5] END .....C=100, gamma=0.01, kernel=rbf;, score=0.459 total time=   4.3s\n",
      "[CV 2/5] END .....C=100, gamma=0.01, kernel=rbf;, score=0.463 total time=   4.4s\n",
      "[CV 3/5] END .....C=100, gamma=0.01, kernel=rbf;, score=0.435 total time=   4.4s\n",
      "[CV 4/5] END .....C=100, gamma=0.01, kernel=rbf;, score=0.464 total time=   4.2s\n",
      "[CV 5/5] END .....C=100, gamma=0.01, kernel=rbf;, score=0.488 total time=   4.5s\n",
      "[CV 1/5] END ....C=100, gamma=0.001, kernel=rbf;, score=0.469 total time=   3.1s\n",
      "[CV 2/5] END ....C=100, gamma=0.001, kernel=rbf;, score=0.466 total time=   3.1s\n",
      "[CV 3/5] END ....C=100, gamma=0.001, kernel=rbf;, score=0.432 total time=   3.0s\n",
      "[CV 4/5] END ....C=100, gamma=0.001, kernel=rbf;, score=0.472 total time=   3.1s\n",
      "[CV 5/5] END ....C=100, gamma=0.001, kernel=rbf;, score=0.474 total time=   3.1s\n",
      "[CV 1/5] END ...C=100, gamma=0.0001, kernel=rbf;, score=0.434 total time=   2.9s\n",
      "[CV 2/5] END ...C=100, gamma=0.0001, kernel=rbf;, score=0.454 total time=   2.9s\n",
      "[CV 3/5] END ...C=100, gamma=0.0001, kernel=rbf;, score=0.426 total time=   3.0s\n",
      "[CV 4/5] END ...C=100, gamma=0.0001, kernel=rbf;, score=0.442 total time=   3.0s\n",
      "[CV 5/5] END ...C=100, gamma=0.0001, kernel=rbf;, score=0.446 total time=   3.1s\n",
      "[CV 1/5] END .......C=1000, gamma=1, kernel=rbf;, score=0.380 total time=   9.6s\n",
      "[CV 2/5] END .......C=1000, gamma=1, kernel=rbf;, score=0.389 total time=   8.8s\n",
      "[CV 3/5] END .......C=1000, gamma=1, kernel=rbf;, score=0.365 total time=   9.9s\n",
      "[CV 4/5] END .......C=1000, gamma=1, kernel=rbf;, score=0.374 total time=   9.2s\n",
      "[CV 5/5] END .......C=1000, gamma=1, kernel=rbf;, score=0.386 total time=   8.9s\n",
      "[CV 1/5] END .....C=1000, gamma=0.1, kernel=rbf;, score=0.409 total time=  15.3s\n",
      "[CV 2/5] END .....C=1000, gamma=0.1, kernel=rbf;, score=0.417 total time=  16.0s\n",
      "[CV 3/5] END .....C=1000, gamma=0.1, kernel=rbf;, score=0.393 total time=  17.4s\n",
      "[CV 4/5] END .....C=1000, gamma=0.1, kernel=rbf;, score=0.404 total time=  15.2s\n",
      "[CV 5/5] END .....C=1000, gamma=0.1, kernel=rbf;, score=0.412 total time=  17.1s\n",
      "[CV 1/5] END ....C=1000, gamma=0.01, kernel=rbf;, score=0.455 total time=  14.1s\n",
      "[CV 2/5] END ....C=1000, gamma=0.01, kernel=rbf;, score=0.454 total time=  12.9s\n",
      "[CV 3/5] END ....C=1000, gamma=0.01, kernel=rbf;, score=0.427 total time=  13.3s\n",
      "[CV 4/5] END ....C=1000, gamma=0.01, kernel=rbf;, score=0.449 total time=  13.5s\n",
      "[CV 5/5] END ....C=1000, gamma=0.01, kernel=rbf;, score=0.481 total time=  13.6s\n",
      "[CV 1/5] END ...C=1000, gamma=0.001, kernel=rbf;, score=0.462 total time=   5.0s\n",
      "[CV 2/5] END ...C=1000, gamma=0.001, kernel=rbf;, score=0.466 total time=   5.2s\n",
      "[CV 3/5] END ...C=1000, gamma=0.001, kernel=rbf;, score=0.444 total time=   5.1s\n",
      "[CV 4/5] END ...C=1000, gamma=0.001, kernel=rbf;, score=0.464 total time=   5.2s\n",
      "[CV 5/5] END ...C=1000, gamma=0.001, kernel=rbf;, score=0.497 total time=   5.2s\n",
      "[CV 1/5] END ..C=1000, gamma=0.0001, kernel=rbf;, score=0.436 total time=   3.3s\n",
      "[CV 2/5] END ..C=1000, gamma=0.0001, kernel=rbf;, score=0.457 total time=   3.4s\n",
      "[CV 3/5] END ..C=1000, gamma=0.0001, kernel=rbf;, score=0.424 total time=   3.4s\n",
      "[CV 4/5] END ..C=1000, gamma=0.0001, kernel=rbf;, score=0.446 total time=   3.5s\n",
      "[CV 5/5] END ..C=1000, gamma=0.0001, kernel=rbf;, score=0.448 total time=   3.6s\n"
     ]
    },
    {
     "data": {
      "text/html": [
       "<style>#sk-container-id-3 {color: black;background-color: white;}#sk-container-id-3 pre{padding: 0;}#sk-container-id-3 div.sk-toggleable {background-color: white;}#sk-container-id-3 label.sk-toggleable__label {cursor: pointer;display: block;width: 100%;margin-bottom: 0;padding: 0.3em;box-sizing: border-box;text-align: center;}#sk-container-id-3 label.sk-toggleable__label-arrow:before {content: \"▸\";float: left;margin-right: 0.25em;color: #696969;}#sk-container-id-3 label.sk-toggleable__label-arrow:hover:before {color: black;}#sk-container-id-3 div.sk-estimator:hover label.sk-toggleable__label-arrow:before {color: black;}#sk-container-id-3 div.sk-toggleable__content {max-height: 0;max-width: 0;overflow: hidden;text-align: left;background-color: #f0f8ff;}#sk-container-id-3 div.sk-toggleable__content pre {margin: 0.2em;color: black;border-radius: 0.25em;background-color: #f0f8ff;}#sk-container-id-3 input.sk-toggleable__control:checked~div.sk-toggleable__content {max-height: 200px;max-width: 100%;overflow: auto;}#sk-container-id-3 input.sk-toggleable__control:checked~label.sk-toggleable__label-arrow:before {content: \"▾\";}#sk-container-id-3 div.sk-estimator input.sk-toggleable__control:checked~label.sk-toggleable__label {background-color: #d4ebff;}#sk-container-id-3 div.sk-label input.sk-toggleable__control:checked~label.sk-toggleable__label {background-color: #d4ebff;}#sk-container-id-3 input.sk-hidden--visually {border: 0;clip: rect(1px 1px 1px 1px);clip: rect(1px, 1px, 1px, 1px);height: 1px;margin: -1px;overflow: hidden;padding: 0;position: absolute;width: 1px;}#sk-container-id-3 div.sk-estimator {font-family: monospace;background-color: #f0f8ff;border: 1px dotted black;border-radius: 0.25em;box-sizing: border-box;margin-bottom: 0.5em;}#sk-container-id-3 div.sk-estimator:hover {background-color: #d4ebff;}#sk-container-id-3 div.sk-parallel-item::after {content: \"\";width: 100%;border-bottom: 1px solid gray;flex-grow: 1;}#sk-container-id-3 div.sk-label:hover label.sk-toggleable__label {background-color: #d4ebff;}#sk-container-id-3 div.sk-serial::before {content: \"\";position: absolute;border-left: 1px solid gray;box-sizing: border-box;top: 0;bottom: 0;left: 50%;z-index: 0;}#sk-container-id-3 div.sk-serial {display: flex;flex-direction: column;align-items: center;background-color: white;padding-right: 0.2em;padding-left: 0.2em;position: relative;}#sk-container-id-3 div.sk-item {position: relative;z-index: 1;}#sk-container-id-3 div.sk-parallel {display: flex;align-items: stretch;justify-content: center;background-color: white;position: relative;}#sk-container-id-3 div.sk-item::before, #sk-container-id-3 div.sk-parallel-item::before {content: \"\";position: absolute;border-left: 1px solid gray;box-sizing: border-box;top: 0;bottom: 0;left: 50%;z-index: -1;}#sk-container-id-3 div.sk-parallel-item {display: flex;flex-direction: column;z-index: 1;position: relative;background-color: white;}#sk-container-id-3 div.sk-parallel-item:first-child::after {align-self: flex-end;width: 50%;}#sk-container-id-3 div.sk-parallel-item:last-child::after {align-self: flex-start;width: 50%;}#sk-container-id-3 div.sk-parallel-item:only-child::after {width: 0;}#sk-container-id-3 div.sk-dashed-wrapped {border: 1px dashed gray;margin: 0 0.4em 0.5em 0.4em;box-sizing: border-box;padding-bottom: 0.4em;background-color: white;}#sk-container-id-3 div.sk-label label {font-family: monospace;font-weight: bold;display: inline-block;line-height: 1.2em;}#sk-container-id-3 div.sk-label-container {text-align: center;}#sk-container-id-3 div.sk-container {/* jupyter's `normalize.less` sets `[hidden] { display: none; }` but bootstrap.min.css set `[hidden] { display: none !important; }` so we also need the `!important` here to be able to override the default hidden behavior on the sphinx rendered scikit-learn.org. See: https://github.com/scikit-learn/scikit-learn/issues/21755 */display: inline-block !important;position: relative;}#sk-container-id-3 div.sk-text-repr-fallback {display: none;}</style><div id=\"sk-container-id-3\" class=\"sk-top-container\"><div class=\"sk-text-repr-fallback\"><pre>GridSearchCV(estimator=SVC(),\n",
       "             param_grid={&#x27;C&#x27;: [0.1, 1, 10, 100, 1000],\n",
       "                         &#x27;gamma&#x27;: [1, 0.1, 0.01, 0.001, 0.0001],\n",
       "                         &#x27;kernel&#x27;: [&#x27;rbf&#x27;]},\n",
       "             verbose=3)</pre><b>In a Jupyter environment, please rerun this cell to show the HTML representation or trust the notebook. <br />On GitHub, the HTML representation is unable to render, please try loading this page with nbviewer.org.</b></div><div class=\"sk-container\" hidden><div class=\"sk-item sk-dashed-wrapped\"><div class=\"sk-label-container\"><div class=\"sk-label sk-toggleable\"><input class=\"sk-toggleable__control sk-hidden--visually\" id=\"sk-estimator-id-3\" type=\"checkbox\" ><label for=\"sk-estimator-id-3\" class=\"sk-toggleable__label sk-toggleable__label-arrow\">GridSearchCV</label><div class=\"sk-toggleable__content\"><pre>GridSearchCV(estimator=SVC(),\n",
       "             param_grid={&#x27;C&#x27;: [0.1, 1, 10, 100, 1000],\n",
       "                         &#x27;gamma&#x27;: [1, 0.1, 0.01, 0.001, 0.0001],\n",
       "                         &#x27;kernel&#x27;: [&#x27;rbf&#x27;]},\n",
       "             verbose=3)</pre></div></div></div><div class=\"sk-parallel\"><div class=\"sk-parallel-item\"><div class=\"sk-item\"><div class=\"sk-label-container\"><div class=\"sk-label sk-toggleable\"><input class=\"sk-toggleable__control sk-hidden--visually\" id=\"sk-estimator-id-4\" type=\"checkbox\" ><label for=\"sk-estimator-id-4\" class=\"sk-toggleable__label sk-toggleable__label-arrow\">estimator: SVC</label><div class=\"sk-toggleable__content\"><pre>SVC()</pre></div></div></div><div class=\"sk-serial\"><div class=\"sk-item\"><div class=\"sk-estimator sk-toggleable\"><input class=\"sk-toggleable__control sk-hidden--visually\" id=\"sk-estimator-id-5\" type=\"checkbox\" ><label for=\"sk-estimator-id-5\" class=\"sk-toggleable__label sk-toggleable__label-arrow\">SVC</label><div class=\"sk-toggleable__content\"><pre>SVC()</pre></div></div></div></div></div></div></div></div></div></div>"
      ],
      "text/plain": [
       "GridSearchCV(estimator=SVC(),\n",
       "             param_grid={'C': [0.1, 1, 10, 100, 1000],\n",
       "                         'gamma': [1, 0.1, 0.01, 0.001, 0.0001],\n",
       "                         'kernel': ['rbf']},\n",
       "             verbose=3)"
      ]
     },
     "execution_count": 853,
     "metadata": {},
     "output_type": "execute_result"
    }
   ],
   "source": [
    "from sklearn.svm import SVC\n",
    "from sklearn.model_selection import GridSearchCV\n",
    "  \n",
    "param_grid = {'C': [0.1, 1, 10, 100, 1000], \n",
    "              'gamma': [1, 0.1, 0.01, 0.001, 0.0001],\n",
    "              'kernel': ['rbf']} \n",
    "  \n",
    "grid = GridSearchCV(SVC(), param_grid, refit = True, verbose = 3)\n",
    "  \n",
    "grid.fit(X_train, y_train)"
   ]
  },
  {
   "cell_type": "code",
   "execution_count": 854,
   "id": "78e87645",
   "metadata": {},
   "outputs": [
    {
     "data": {
      "text/plain": [
       "{'C': 1, 'gamma': 0.1, 'kernel': 'rbf'}"
      ]
     },
     "execution_count": 854,
     "metadata": {},
     "output_type": "execute_result"
    }
   ],
   "source": [
    "grid.best_params_\n"
   ]
  },
  {
   "cell_type": "code",
   "execution_count": 869,
   "id": "3b914754",
   "metadata": {},
   "outputs": [
    {
     "name": "stdout",
     "output_type": "stream",
     "text": [
      "              precision    recall  f1-score   support\n",
      "\n",
      "           A       0.37      0.41      0.39       528\n",
      "           B       0.37      0.28      0.32       462\n",
      "           C       0.48      0.48      0.48       505\n",
      "           D       0.54      0.58      0.56       551\n",
      "\n",
      "    accuracy                           0.44      2046\n",
      "   macro avg       0.44      0.44      0.44      2046\n",
      "weighted avg       0.44      0.44      0.44      2046\n",
      "\n",
      "0.4447702834799609\n",
      "0.4447702834799609\n"
     ]
    }
   ],
   "source": [
    "\n",
    "\n",
    "svc = SVC(kernel='rbf',C= 1, gamma = 0.1)\n",
    "svc.fit(X_train, y_train)\n",
    "\n",
    "y_pred = svc.predict(X_test)\n",
    "\n",
    "print(classification_report(y_test, y_pred))\n",
    "\n",
    "\n",
    "print(precision_score(y_pred, y_test,average='micro'))\n",
    "print(recall_score(y_pred, y_test,average='micro'))"
   ]
  },
  {
   "cell_type": "code",
   "execution_count": null,
   "id": "0a891738",
   "metadata": {},
   "outputs": [],
   "source": []
  }
 ],
 "metadata": {
  "kernelspec": {
   "display_name": "Python 3 (ipykernel)",
   "language": "python",
   "name": "python3"
  },
  "language_info": {
   "codemirror_mode": {
    "name": "ipython",
    "version": 3
   },
   "file_extension": ".py",
   "mimetype": "text/x-python",
   "name": "python",
   "nbconvert_exporter": "python",
   "pygments_lexer": "ipython3",
   "version": "3.10.9"
  }
 },
 "nbformat": 4,
 "nbformat_minor": 5
}
