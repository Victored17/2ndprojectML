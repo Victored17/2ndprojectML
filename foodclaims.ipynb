{
 "cells": [
  {
   "cell_type": "code",
   "execution_count": 1,
   "id": "19fad468",
   "metadata": {},
   "outputs": [
    {
     "data": {
      "text/html": [
       "<div>\n",
       "<style scoped>\n",
       "    .dataframe tbody tr th:only-of-type {\n",
       "        vertical-align: middle;\n",
       "    }\n",
       "\n",
       "    .dataframe tbody tr th {\n",
       "        vertical-align: top;\n",
       "    }\n",
       "\n",
       "    .dataframe thead th {\n",
       "        text-align: right;\n",
       "    }\n",
       "</style>\n",
       "<table border=\"1\" class=\"dataframe\">\n",
       "  <thead>\n",
       "    <tr style=\"text-align: right;\">\n",
       "      <th></th>\n",
       "      <th>claim_id</th>\n",
       "      <th>time_to_close</th>\n",
       "      <th>claim_amount</th>\n",
       "      <th>amount_paid</th>\n",
       "      <th>location</th>\n",
       "      <th>individuals_on_claim</th>\n",
       "      <th>linked_cases</th>\n",
       "      <th>cause</th>\n",
       "    </tr>\n",
       "  </thead>\n",
       "  <tbody>\n",
       "    <tr>\n",
       "      <th>0</th>\n",
       "      <td>1</td>\n",
       "      <td>317</td>\n",
       "      <td>R$ 74474.55</td>\n",
       "      <td>51231.37</td>\n",
       "      <td>RECIFE</td>\n",
       "      <td>15</td>\n",
       "      <td>False</td>\n",
       "      <td>unknown</td>\n",
       "    </tr>\n",
       "    <tr>\n",
       "      <th>1</th>\n",
       "      <td>2</td>\n",
       "      <td>195</td>\n",
       "      <td>R$ 52137.83</td>\n",
       "      <td>42111.30</td>\n",
       "      <td>FORTALEZA</td>\n",
       "      <td>12</td>\n",
       "      <td>True</td>\n",
       "      <td>unknown</td>\n",
       "    </tr>\n",
       "    <tr>\n",
       "      <th>2</th>\n",
       "      <td>3</td>\n",
       "      <td>183</td>\n",
       "      <td>R$ 24447.2</td>\n",
       "      <td>23986.30</td>\n",
       "      <td>SAO LUIS</td>\n",
       "      <td>10</td>\n",
       "      <td>True</td>\n",
       "      <td>meat</td>\n",
       "    </tr>\n",
       "    <tr>\n",
       "      <th>3</th>\n",
       "      <td>4</td>\n",
       "      <td>186</td>\n",
       "      <td>R$ 29006.28</td>\n",
       "      <td>27942.72</td>\n",
       "      <td>FORTALEZA</td>\n",
       "      <td>11</td>\n",
       "      <td>False</td>\n",
       "      <td>meat</td>\n",
       "    </tr>\n",
       "    <tr>\n",
       "      <th>4</th>\n",
       "      <td>5</td>\n",
       "      <td>138</td>\n",
       "      <td>R$ 19520.6</td>\n",
       "      <td>16251.06</td>\n",
       "      <td>RECIFE</td>\n",
       "      <td>11</td>\n",
       "      <td>False</td>\n",
       "      <td>vegetable</td>\n",
       "    </tr>\n",
       "  </tbody>\n",
       "</table>\n",
       "</div>"
      ],
      "text/plain": [
       "   claim_id  time_to_close claim_amount  amount_paid   location  \\\n",
       "0         1            317  R$ 74474.55     51231.37     RECIFE   \n",
       "1         2            195  R$ 52137.83     42111.30  FORTALEZA   \n",
       "2         3            183   R$ 24447.2     23986.30   SAO LUIS   \n",
       "3         4            186  R$ 29006.28     27942.72  FORTALEZA   \n",
       "4         5            138   R$ 19520.6     16251.06     RECIFE   \n",
       "\n",
       "   individuals_on_claim linked_cases      cause  \n",
       "0                    15        False    unknown  \n",
       "1                    12         True    unknown  \n",
       "2                    10         True       meat  \n",
       "3                    11        False       meat  \n",
       "4                    11        False  vegetable  "
      ]
     },
     "execution_count": 1,
     "metadata": {},
     "output_type": "execute_result"
    }
   ],
   "source": [
    "import pandas as pd\n",
    "import numpy as np\n",
    "import matplotlib.pyplot as plt\n",
    "import seaborn as sns\n",
    "\n",
    "df = pd.read_csv(r'C:\\Users\\LENOVO\\python\\datasets\\food\\food_claims_2212.csv')\n",
    "\n",
    "\n",
    "\n",
    "df.head()"
   ]
  },
  {
   "cell_type": "code",
   "execution_count": 12,
   "id": "76ad6f48",
   "metadata": {},
   "outputs": [
    {
     "name": "stdout",
     "output_type": "stream",
     "text": [
      "<class 'pandas.core.frame.DataFrame'>\n",
      "RangeIndex: 2000 entries, 0 to 1999\n",
      "Data columns (total 8 columns):\n",
      " #   Column                Non-Null Count  Dtype  \n",
      "---  ------                --------------  -----  \n",
      " 0   claim_id              2000 non-null   int64  \n",
      " 1   time_to_close         2000 non-null   int64  \n",
      " 2   claim_amount          2000 non-null   object \n",
      " 3   amount_paid           1964 non-null   float64\n",
      " 4   location              2000 non-null   object \n",
      " 5   individuals_on_claim  2000 non-null   int64  \n",
      " 6   linked_cases          1974 non-null   object \n",
      " 7   cause                 2000 non-null   object \n",
      "dtypes: float64(1), int64(3), object(4)\n",
      "memory usage: 125.1+ KB\n"
     ]
    }
   ],
   "source": [
    "df.info()"
   ]
  },
  {
   "cell_type": "code",
   "execution_count": 18,
   "id": "d54b7f6f",
   "metadata": {},
   "outputs": [
    {
     "data": {
      "text/plain": [
       "claim_id                 0\n",
       "time_to_close            0\n",
       "claim_amount             0\n",
       "amount_paid             36\n",
       "location                 0\n",
       "individuals_on_claim     0\n",
       "linked_cases            26\n",
       "cause                    0\n",
       "dtype: int64"
      ]
     },
     "execution_count": 18,
     "metadata": {},
     "output_type": "execute_result"
    }
   ],
   "source": [
    "df.isna().sum() #sumar nulls en columnas"
   ]
  },
  {
   "cell_type": "code",
   "execution_count": 19,
   "id": "f9ff9c19",
   "metadata": {},
   "outputs": [
    {
     "data": {
      "text/plain": [
       "claim_id                2000\n",
       "time_to_close            256\n",
       "claim_amount            2000\n",
       "amount_paid             1963\n",
       "location                   4\n",
       "individuals_on_claim      15\n",
       "linked_cases               2\n",
       "cause                      5\n",
       "dtype: int64"
      ]
     },
     "execution_count": 19,
     "metadata": {},
     "output_type": "execute_result"
    }
   ],
   "source": [
    "df.nunique()\n"
   ]
  },
  {
   "cell_type": "code",
   "execution_count": 20,
   "id": "850c542d",
   "metadata": {},
   "outputs": [],
   "source": [
    "# Lista de caracteres a borrar\n",
    "chars_to_remove = [\"R$ \"]\n",
    "# Lista de columnas a limpiar\n",
    "cols_to_clean = [\"claim_amount\"]\n",
    "\n",
    "# aplicamos for para cada columna en cols_to_celan\n",
    "for col in cols_to_clean:\n",
    "    # for para cada caracter a limpiar\n",
    "    for char in chars_to_remove:\n",
    "        # se reemplaza el caracter cpn .apply y funcion lambda\n",
    "        df[col] = df[col].apply(lambda x: x.replace(char, \"\"))"
   ]
  },
  {
   "cell_type": "code",
   "execution_count": 21,
   "id": "f15759b2",
   "metadata": {},
   "outputs": [
    {
     "data": {
      "text/html": [
       "<div>\n",
       "<style scoped>\n",
       "    .dataframe tbody tr th:only-of-type {\n",
       "        vertical-align: middle;\n",
       "    }\n",
       "\n",
       "    .dataframe tbody tr th {\n",
       "        vertical-align: top;\n",
       "    }\n",
       "\n",
       "    .dataframe thead th {\n",
       "        text-align: right;\n",
       "    }\n",
       "</style>\n",
       "<table border=\"1\" class=\"dataframe\">\n",
       "  <thead>\n",
       "    <tr style=\"text-align: right;\">\n",
       "      <th></th>\n",
       "      <th>claim_id</th>\n",
       "      <th>time_to_close</th>\n",
       "      <th>claim_amount</th>\n",
       "      <th>amount_paid</th>\n",
       "      <th>location</th>\n",
       "      <th>individuals_on_claim</th>\n",
       "      <th>linked_cases</th>\n",
       "      <th>cause</th>\n",
       "    </tr>\n",
       "  </thead>\n",
       "  <tbody>\n",
       "    <tr>\n",
       "      <th>0</th>\n",
       "      <td>1</td>\n",
       "      <td>317</td>\n",
       "      <td>74474.55</td>\n",
       "      <td>51231.37</td>\n",
       "      <td>RECIFE</td>\n",
       "      <td>15</td>\n",
       "      <td>False</td>\n",
       "      <td>unknown</td>\n",
       "    </tr>\n",
       "    <tr>\n",
       "      <th>1</th>\n",
       "      <td>2</td>\n",
       "      <td>195</td>\n",
       "      <td>52137.83</td>\n",
       "      <td>42111.30</td>\n",
       "      <td>FORTALEZA</td>\n",
       "      <td>12</td>\n",
       "      <td>True</td>\n",
       "      <td>unknown</td>\n",
       "    </tr>\n",
       "    <tr>\n",
       "      <th>2</th>\n",
       "      <td>3</td>\n",
       "      <td>183</td>\n",
       "      <td>24447.2</td>\n",
       "      <td>23986.30</td>\n",
       "      <td>SAO LUIS</td>\n",
       "      <td>10</td>\n",
       "      <td>True</td>\n",
       "      <td>meat</td>\n",
       "    </tr>\n",
       "    <tr>\n",
       "      <th>3</th>\n",
       "      <td>4</td>\n",
       "      <td>186</td>\n",
       "      <td>29006.28</td>\n",
       "      <td>27942.72</td>\n",
       "      <td>FORTALEZA</td>\n",
       "      <td>11</td>\n",
       "      <td>False</td>\n",
       "      <td>meat</td>\n",
       "    </tr>\n",
       "    <tr>\n",
       "      <th>4</th>\n",
       "      <td>5</td>\n",
       "      <td>138</td>\n",
       "      <td>19520.6</td>\n",
       "      <td>16251.06</td>\n",
       "      <td>RECIFE</td>\n",
       "      <td>11</td>\n",
       "      <td>False</td>\n",
       "      <td>vegetable</td>\n",
       "    </tr>\n",
       "  </tbody>\n",
       "</table>\n",
       "</div>"
      ],
      "text/plain": [
       "   claim_id  time_to_close claim_amount  amount_paid   location  \\\n",
       "0         1            317     74474.55     51231.37     RECIFE   \n",
       "1         2            195     52137.83     42111.30  FORTALEZA   \n",
       "2         3            183      24447.2     23986.30   SAO LUIS   \n",
       "3         4            186     29006.28     27942.72  FORTALEZA   \n",
       "4         5            138      19520.6     16251.06     RECIFE   \n",
       "\n",
       "   individuals_on_claim linked_cases      cause  \n",
       "0                    15        False    unknown  \n",
       "1                    12         True    unknown  \n",
       "2                    10         True       meat  \n",
       "3                    11        False       meat  \n",
       "4                    11        False  vegetable  "
      ]
     },
     "execution_count": 21,
     "metadata": {},
     "output_type": "execute_result"
    }
   ],
   "source": [
    "df.head()"
   ]
  },
  {
   "cell_type": "code",
   "execution_count": 22,
   "id": "bceddfdc",
   "metadata": {},
   "outputs": [],
   "source": [
    "df[\"claim_amount\"]=df[\"claim_amount\"].astype(float)"
   ]
  },
  {
   "cell_type": "code",
   "execution_count": 23,
   "id": "73e5198b",
   "metadata": {},
   "outputs": [],
   "source": [
    "df['claim_amount']=df['claim_amount'].round(2)"
   ]
  },
  {
   "cell_type": "code",
   "execution_count": 24,
   "id": "a2002303",
   "metadata": {},
   "outputs": [],
   "source": [
    "df['claim_amount']=df['claim_amount'].round(2)\n"
   ]
  },
  {
   "cell_type": "code",
   "execution_count": 25,
   "id": "0916a6ad",
   "metadata": {},
   "outputs": [],
   "source": [
    "df.amount_paid = df.amount_paid.fillna(df['amount_paid'].median())"
   ]
  },
  {
   "cell_type": "code",
   "execution_count": 26,
   "id": "e6f00496",
   "metadata": {},
   "outputs": [
    {
     "name": "stdout",
     "output_type": "stream",
     "text": [
      "<class 'pandas.core.frame.DataFrame'>\n",
      "RangeIndex: 2000 entries, 0 to 1999\n",
      "Data columns (total 8 columns):\n",
      " #   Column                Non-Null Count  Dtype  \n",
      "---  ------                --------------  -----  \n",
      " 0   claim_id              2000 non-null   int64  \n",
      " 1   time_to_close         2000 non-null   int64  \n",
      " 2   claim_amount          2000 non-null   float64\n",
      " 3   amount_paid           2000 non-null   float64\n",
      " 4   location              2000 non-null   object \n",
      " 5   individuals_on_claim  2000 non-null   int64  \n",
      " 6   linked_cases          1974 non-null   object \n",
      " 7   cause                 2000 non-null   object \n",
      "dtypes: float64(2), int64(3), object(3)\n",
      "memory usage: 125.1+ KB\n"
     ]
    }
   ],
   "source": [
    "df.info()"
   ]
  },
  {
   "cell_type": "code",
   "execution_count": 27,
   "id": "f1e6e547",
   "metadata": {},
   "outputs": [],
   "source": [
    "df.linked_cases = df.linked_cases.fillna(False)"
   ]
  },
  {
   "cell_type": "code",
   "execution_count": 28,
   "id": "eee557b8",
   "metadata": {},
   "outputs": [
    {
     "name": "stdout",
     "output_type": "stream",
     "text": [
      "<class 'pandas.core.frame.DataFrame'>\n",
      "RangeIndex: 2000 entries, 0 to 1999\n",
      "Data columns (total 8 columns):\n",
      " #   Column                Non-Null Count  Dtype  \n",
      "---  ------                --------------  -----  \n",
      " 0   claim_id              2000 non-null   int64  \n",
      " 1   time_to_close         2000 non-null   int64  \n",
      " 2   claim_amount          2000 non-null   float64\n",
      " 3   amount_paid           2000 non-null   float64\n",
      " 4   location              2000 non-null   object \n",
      " 5   individuals_on_claim  2000 non-null   int64  \n",
      " 6   linked_cases          2000 non-null   bool   \n",
      " 7   cause                 2000 non-null   object \n",
      "dtypes: bool(1), float64(2), int64(3), object(2)\n",
      "memory usage: 111.5+ KB\n"
     ]
    }
   ],
   "source": [
    "df.info()"
   ]
  },
  {
   "cell_type": "code",
   "execution_count": 29,
   "id": "113f1568",
   "metadata": {},
   "outputs": [
    {
     "data": {
      "text/plain": [
       "claim_id                0\n",
       "time_to_close           0\n",
       "claim_amount            0\n",
       "amount_paid             0\n",
       "location                0\n",
       "individuals_on_claim    0\n",
       "linked_cases            0\n",
       "cause                   0\n",
       "dtype: int64"
      ]
     },
     "execution_count": 29,
     "metadata": {},
     "output_type": "execute_result"
    }
   ],
   "source": [
    "df.isna().sum()"
   ]
  },
  {
   "cell_type": "code",
   "execution_count": 30,
   "id": "92523b1e",
   "metadata": {},
   "outputs": [
    {
     "data": {
      "text/plain": [
       "cause\n",
       "meat          943\n",
       "unknown       713\n",
       "vegetable     314\n",
       "VEGETABLES     16\n",
       " Meat          14\n",
       "Name: count, dtype: int64"
      ]
     },
     "execution_count": 30,
     "metadata": {},
     "output_type": "execute_result"
    }
   ],
   "source": [
    "df['cause'].value_counts()\n"
   ]
  },
  {
   "cell_type": "code",
   "execution_count": 31,
   "id": "040ad65b",
   "metadata": {},
   "outputs": [
    {
     "data": {
      "text/plain": [
       "individuals_on_claim\n",
       "12    156\n",
       "2     156\n",
       "8     154\n",
       "7     152\n",
       "3     150\n",
       "9     142\n",
       "4     142\n",
       "13    139\n",
       "11    137\n",
       "5     137\n",
       "10    135\n",
       "6     123\n",
       "14    121\n",
       "15     99\n",
       "1      57\n",
       "Name: count, dtype: int64"
      ]
     },
     "execution_count": 31,
     "metadata": {},
     "output_type": "execute_result"
    }
   ],
   "source": [
    "df['individuals_on_claim'].value_counts() "
   ]
  },
  {
   "cell_type": "code",
   "execution_count": 32,
   "id": "83b03efe",
   "metadata": {},
   "outputs": [
    {
     "data": {
      "text/plain": [
       "linked_cases\n",
       "False    1519\n",
       "True      481\n",
       "Name: count, dtype: int64"
      ]
     },
     "execution_count": 32,
     "metadata": {},
     "output_type": "execute_result"
    }
   ],
   "source": [
    "df['linked_cases'].value_counts() "
   ]
  },
  {
   "cell_type": "code",
   "execution_count": 33,
   "id": "7b969d45",
   "metadata": {},
   "outputs": [],
   "source": [
    "# Lista de caracteres borrar \n",
    "chars_to_remove = [\" \"]\n",
    "# Lista de columnas a limpiar\n",
    "cols_to_clean = [\"cause\"]\n",
    "\n",
    "# aplicamos for para cada columna en cols_to_celan\n",
    "for col in cols_to_clean:\n",
    "    # for para cada caracter a limpiar\n",
    "    for char in chars_to_remove:\n",
    "        # se reemplaza el caracter cpn .apply y funcion lambda\n",
    "        df[col] = df_copy[col].apply(lambda x: x.replace(char, \"\"))"
   ]
  },
  {
   "cell_type": "code",
   "execution_count": 34,
   "id": "f1122b72",
   "metadata": {},
   "outputs": [
    {
     "data": {
      "text/plain": [
       "cause\n",
       "meat          943\n",
       "unknown       713\n",
       "vegetable     314\n",
       "VEGETABLES     16\n",
       "Meat           14\n",
       "Name: count, dtype: int64"
      ]
     },
     "execution_count": 34,
     "metadata": {},
     "output_type": "execute_result"
    }
   ],
   "source": [
    "df['cause'].value_counts()\n"
   ]
  },
  {
   "cell_type": "code",
   "execution_count": 35,
   "id": "dd2191d0",
   "metadata": {},
   "outputs": [],
   "source": [
    "# Lista de caracteres a reemplazar\n",
    "chars_to_remove = [\"Meat\"]\n",
    "# Lista de columnas a limpiar\n",
    "cols_to_clean = [\"cause\"]\n",
    "\n",
    "# aplicamos for para cada columna en cols_to_celan\n",
    "for col in cols_to_clean:\n",
    "    # for para cada caracter a limpiar\n",
    "    for char in chars_to_remove:\n",
    "        # se reemplaza el caracter cpn .apply y funcion lambda\n",
    "        df[col] = df_copy[col].apply(lambda x: x.replace(char, \"meat\"))"
   ]
  },
  {
   "cell_type": "code",
   "execution_count": 36,
   "id": "9a7c2465",
   "metadata": {},
   "outputs": [],
   "source": [
    "# Lista de caracteres a reemplazar\n",
    "chars_to_remove = [\"VEGETABLES\"]\n",
    "# Lista de columnas a limpiar\n",
    "cols_to_clean = [\"cause\"]\n",
    "\n",
    "# aplicamos for para cada columna en cols_to_celan\n",
    "for col in cols_to_clean:\n",
    "    # for para cada caracter a limpiar\n",
    "    for char in chars_to_remove:\n",
    "        # se reemplaza el caracter cpn .apply y funcion lambda\n",
    "        df[col] = df_copy[col].apply(lambda x: x.replace(char, \"vegetable\"))"
   ]
  },
  {
   "cell_type": "code",
   "execution_count": 37,
   "id": "621eabd5",
   "metadata": {},
   "outputs": [
    {
     "data": {
      "text/plain": [
       "cause\n",
       "meat         943\n",
       "unknown      713\n",
       "vegetable    330\n",
       " Meat         14\n",
       "Name: count, dtype: int64"
      ]
     },
     "execution_count": 37,
     "metadata": {},
     "output_type": "execute_result"
    }
   ],
   "source": [
    "df['cause'].value_counts()\n"
   ]
  },
  {
   "cell_type": "code",
   "execution_count": 25,
   "id": "18a505be",
   "metadata": {},
   "outputs": [
    {
     "data": {
      "text/plain": [
       "Text(0, 0.5, 'Locación')"
      ]
     },
     "execution_count": 25,
     "metadata": {},
     "output_type": "execute_result"
    },
    {
     "data": {
      "image/png": "[encoded data removed]",
      "text/plain": [
       "<Figure size 640x480 with 1 Axes>"
      ]
     },
     "metadata": {},
     "output_type": "display_data"
    }
   ],
   "source": [
    "ax=df.groupby(\"location\")['claim_id'].count().plot(kind='barh')\n",
    "ax.bar_label(ax.containers[0])\n",
    "ax.set_title(\"Número de reclamos por locación\")\n",
    "ax.set_ylabel(\"Locación\")"
   ]
  },
  {
   "cell_type": "code",
   "execution_count": 26,
   "id": "d17f62fe",
   "metadata": {},
   "outputs": [
    {
     "data": {
      "text/plain": [
       "<Axes: ylabel='claim_id'>"
      ]
     },
     "execution_count": 26,
     "metadata": {},
     "output_type": "execute_result"
    },
    {
     "data": {
      "image/png": "[encoded data removed]",
      "text/plain": [
       "<Figure size 640x480 with 1 Axes>"
      ]
     },
     "metadata": {},
     "output_type": "display_data"
    }
   ],
   "source": [
    "df.groupby(\"location\")['claim_id'].count().plot(kind='pie',autopct='%.2f%%')"
   ]
  },
  {
   "cell_type": "code",
   "execution_count": 27,
   "id": "0c06378d",
   "metadata": {},
   "outputs": [
    {
     "data": {
      "text/plain": [
       "<Axes: xlabel='time_to_close', ylabel='Count'>"
      ]
     },
     "execution_count": 27,
     "metadata": {},
     "output_type": "execute_result"
    },
    {
     "data": {
      "image/png": "[encoded data removed]",
      "text/plain": [
       "<Figure size 640x480 with 1 Axes>"
      ]
     },
     "metadata": {},
     "output_type": "display_data"
    }
   ],
   "source": [
    "sns.histplot(data=df, x='time_to_close',hue=\"location\", multiple=\"stack\")"
   ]
  },
  {
   "cell_type": "code",
   "execution_count": 28,
   "id": "a631437f",
   "metadata": {},
   "outputs": [
    {
     "data": {
      "text/plain": [
       "185.568"
      ]
     },
     "execution_count": 28,
     "metadata": {},
     "output_type": "execute_result"
    }
   ],
   "source": [
    "df['time_to_close'].mean()"
   ]
  },
  {
   "cell_type": "code",
   "execution_count": 29,
   "id": "5929cc48",
   "metadata": {},
   "outputs": [
    {
     "data": {
      "text/plain": [
       "<seaborn.axisgrid.FacetGrid at 0x1d327eadd80>"
      ]
     },
     "execution_count": 29,
     "metadata": {},
     "output_type": "execute_result"
    },
    {
     "data": {
      "image/png": "[encoded data removed]",
      "text/plain": [
       "<Figure size 500x500 with 1 Axes>"
      ]
     },
     "metadata": {},
     "output_type": "display_data"
    }
   ],
   "source": [
    "sns.catplot(data=df,x='time_to_close',kind='box')"
   ]
  },
  {
   "cell_type": "code",
   "execution_count": 30,
   "id": "11b55181",
   "metadata": {},
   "outputs": [],
   "source": [
    "q3=np.percentile(df['time_to_close'], 75)"
   ]
  },
  {
   "cell_type": "code",
   "execution_count": 31,
   "id": "b0ddbbb5",
   "metadata": {},
   "outputs": [],
   "source": [
    "q1=np.percentile(df['time_to_close'], 25)"
   ]
  },
  {
   "cell_type": "code",
   "execution_count": 32,
   "id": "807cf658",
   "metadata": {},
   "outputs": [],
   "source": [
    "IQR = q3 - q1"
   ]
  },
  {
   "cell_type": "code",
   "execution_count": 33,
   "id": "617dff7b",
   "metadata": {},
   "outputs": [
    {
     "name": "stdout",
     "output_type": "stream",
     "text": [
      "204.0\n",
      "158.0\n",
      "46.0\n"
     ]
    }
   ],
   "source": [
    "print(q3)\n",
    "print(q1)\n",
    "print(IQR)\n"
   ]
  },
  {
   "cell_type": "code",
   "execution_count": 34,
   "id": "a3eca029",
   "metadata": {},
   "outputs": [
    {
     "name": "stdout",
     "output_type": "stream",
     "text": [
      "273.0\n"
     ]
    }
   ],
   "source": [
    "sup=(q3+1.5*IQR)\n",
    "inf=(q3+1.5*IQR)\n",
    "print(sup)"
   ]
  },
  {
   "cell_type": "code",
   "execution_count": 35,
   "id": "6d027f63",
   "metadata": {},
   "outputs": [
    {
     "data": {
      "text/plain": [
       "<seaborn.axisgrid.FacetGrid at 0x1d3280879d0>"
      ]
     },
     "execution_count": 35,
     "metadata": {},
     "output_type": "execute_result"
    },
    {
     "data": {
      "image/png": "[encoded data removed]",
      "text/plain": [
       "<Figure size 598.611x500 with 1 Axes>"
      ]
     },
     "metadata": {},
     "output_type": "display_data"
    }
   ],
   "source": [
    "sns.catplot(data=df,x='location',y='time_to_close',kind='box',hue='linked_cases')"
   ]
  },
  {
   "cell_type": "code",
   "execution_count": 38,
   "id": "8a52780c",
   "metadata": {},
   "outputs": [],
   "source": [
    "def graficos_eda_categoricos(cat):\n",
    "    \n",
    "    #Calculamos el número de filas que necesitamos\n",
    "    from math import ceil\n",
    "    filas = ceil(cat.shape[1] / 2)\n",
    "\n",
    "    #Definimos el gráfico\n",
    "    f, ax = plt.subplots(nrows = filas, ncols = 2, figsize = (16, filas * 6))\n",
    "\n",
    "    #Aplanamos para iterar por el gráfico como si fuera de 1 dimensión en lugar de 2\n",
    "    ax = ax.flat \n",
    "\n",
    "    #Creamos el bucle que va añadiendo gráficos\n",
    "    for cada, variable in enumerate(cat):\n",
    "        cat[variable].value_counts().plot.barh(ax = ax[cada])\n",
    "        ax[cada].set_title(variable, fontsize = 12, fontweight = \"bold\")\n",
    "        ax[cada].tick_params(labelsize = 12)"
   ]
  },
  {
   "cell_type": "code",
   "execution_count": 39,
   "id": "d292cb21",
   "metadata": {},
   "outputs": [
    {
     "data": {
      "image/png": "[encoded data removed]",
      "text/plain": [
       "<Figure size 1600x600 with 2 Axes>"
      ]
     },
     "metadata": {},
     "output_type": "display_data"
    }
   ],
   "source": [
    "graficos_eda_categoricos(df.select_dtypes('O'))"
   ]
  },
  {
   "cell_type": "code",
   "execution_count": 40,
   "id": "4e53a367",
   "metadata": {},
   "outputs": [],
   "source": [
    "def estadisticos_cont(num):\n",
    "    #Calculamos describe\n",
    "    estadisticos = num.describe().T\n",
    "    #Añadimos la mediana\n",
    "    estadisticos['median'] = num.median()\n",
    "    #Reordenamos para que la mediana esté al lado de la media\n",
    "    estadisticos = estadisticos.iloc[:,[0,1,8,2,3,4,5,6,7]]\n",
    "    #Lo devolvemos\n",
    "    return(estadisticos)\n"
   ]
  },
  {
   "cell_type": "code",
   "execution_count": 41,
   "id": "779c80fa",
   "metadata": {},
   "outputs": [
    {
     "data": {
      "text/html": [
       "<div>\n",
       "<style scoped>\n",
       "    .dataframe tbody tr th:only-of-type {\n",
       "        vertical-align: middle;\n",
       "    }\n",
       "\n",
       "    .dataframe tbody tr th {\n",
       "        vertical-align: top;\n",
       "    }\n",
       "\n",
       "    .dataframe thead th {\n",
       "        text-align: right;\n",
       "    }\n",
       "</style>\n",
       "<table border=\"1\" class=\"dataframe\">\n",
       "  <thead>\n",
       "    <tr style=\"text-align: right;\">\n",
       "      <th></th>\n",
       "      <th>count</th>\n",
       "      <th>mean</th>\n",
       "      <th>median</th>\n",
       "      <th>std</th>\n",
       "      <th>min</th>\n",
       "      <th>25%</th>\n",
       "      <th>50%</th>\n",
       "      <th>75%</th>\n",
       "      <th>max</th>\n",
       "    </tr>\n",
       "  </thead>\n",
       "  <tbody>\n",
       "    <tr>\n",
       "      <th>claim_id</th>\n",
       "      <td>2000.0</td>\n",
       "      <td>1000.500000</td>\n",
       "      <td>1000.500</td>\n",
       "      <td>577.494589</td>\n",
       "      <td>1.00</td>\n",
       "      <td>500.7500</td>\n",
       "      <td>1000.500</td>\n",
       "      <td>1500.250</td>\n",
       "      <td>2000.00</td>\n",
       "    </tr>\n",
       "    <tr>\n",
       "      <th>time_to_close</th>\n",
       "      <td>2000.0</td>\n",
       "      <td>185.568000</td>\n",
       "      <td>179.000</td>\n",
       "      <td>49.163390</td>\n",
       "      <td>76.00</td>\n",
       "      <td>158.0000</td>\n",
       "      <td>179.000</td>\n",
       "      <td>204.000</td>\n",
       "      <td>518.00</td>\n",
       "    </tr>\n",
       "    <tr>\n",
       "      <th>claim_amount</th>\n",
       "      <td>2000.0</td>\n",
       "      <td>27156.965235</td>\n",
       "      <td>24821.085</td>\n",
       "      <td>16195.783099</td>\n",
       "      <td>1637.94</td>\n",
       "      <td>13758.9525</td>\n",
       "      <td>24821.085</td>\n",
       "      <td>38581.350</td>\n",
       "      <td>76106.80</td>\n",
       "    </tr>\n",
       "    <tr>\n",
       "      <th>amount_paid</th>\n",
       "      <td>2000.0</td>\n",
       "      <td>21516.122230</td>\n",
       "      <td>20105.700</td>\n",
       "      <td>12418.285043</td>\n",
       "      <td>1516.72</td>\n",
       "      <td>11106.6525</td>\n",
       "      <td>20105.700</td>\n",
       "      <td>30472.895</td>\n",
       "      <td>52498.75</td>\n",
       "    </tr>\n",
       "    <tr>\n",
       "      <th>individuals_on_claim</th>\n",
       "      <td>2000.0</td>\n",
       "      <td>8.049500</td>\n",
       "      <td>8.000</td>\n",
       "      <td>4.087347</td>\n",
       "      <td>1.00</td>\n",
       "      <td>4.0000</td>\n",
       "      <td>8.000</td>\n",
       "      <td>12.000</td>\n",
       "      <td>15.00</td>\n",
       "    </tr>\n",
       "  </tbody>\n",
       "</table>\n",
       "</div>"
      ],
      "text/plain": [
       "                       count          mean     median           std      min  \\\n",
       "claim_id              2000.0   1000.500000   1000.500    577.494589     1.00   \n",
       "time_to_close         2000.0    185.568000    179.000     49.163390    76.00   \n",
       "claim_amount          2000.0  27156.965235  24821.085  16195.783099  1637.94   \n",
       "amount_paid           2000.0  21516.122230  20105.700  12418.285043  1516.72   \n",
       "individuals_on_claim  2000.0      8.049500      8.000      4.087347     1.00   \n",
       "\n",
       "                             25%        50%        75%       max  \n",
       "claim_id                500.7500   1000.500   1500.250   2000.00  \n",
       "time_to_close           158.0000    179.000    204.000    518.00  \n",
       "claim_amount          13758.9525  24821.085  38581.350  76106.80  \n",
       "amount_paid           11106.6525  20105.700  30472.895  52498.75  \n",
       "individuals_on_claim      4.0000      8.000     12.000     15.00  "
      ]
     },
     "execution_count": 41,
     "metadata": {},
     "output_type": "execute_result"
    }
   ],
   "source": [
    "estadisticos_cont(df.select_dtypes('number'))\n"
   ]
  }
 ],
 "metadata": {
  "kernelspec": {
   "display_name": "Python 3 (ipykernel)",
   "language": "python",
   "name": "python3"
  },
  "language_info": {
   "codemirror_mode": {
    "name": "ipython",
    "version": 3
   },
   "file_extension": ".py",
   "mimetype": "text/x-python",
   "name": "python",
   "nbconvert_exporter": "python",
   "pygments_lexer": "ipython3",
   "version": "3.10.9"
  }
 },
 "nbformat": 4,
 "nbformat_minor": 5
}
